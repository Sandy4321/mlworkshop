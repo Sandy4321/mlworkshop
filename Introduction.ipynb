{
 "cells": [
  {
   "cell_type": "code",
   "execution_count": 1,
   "metadata": {
    "collapsed": true
   },
   "outputs": [],
   "source": [
    "import numpy as np\n",
    "import pandas as pd"
   ]
  },
  {
   "cell_type": "code",
   "execution_count": 4,
   "metadata": {
    "collapsed": true
   },
   "outputs": [],
   "source": [
    "a = np.array([1, 2, 3, 4])\n",
    "b = np.array([2, 2, 2, 2])"
   ]
  },
  {
   "cell_type": "code",
   "execution_count": 5,
   "metadata": {
    "collapsed": false
   },
   "outputs": [
    {
     "data": {
      "text/plain": [
       "20"
      ]
     },
     "execution_count": 5,
     "metadata": {},
     "output_type": "execute_result"
    }
   ],
   "source": [
    "(1 * 2) + (2 * 2) + (3 * 2) + (4 * 2)"
   ]
  },
  {
   "cell_type": "code",
   "execution_count": 6,
   "metadata": {
    "collapsed": false
   },
   "outputs": [
    {
     "data": {
      "text/plain": [
       "20"
      ]
     },
     "execution_count": 6,
     "metadata": {},
     "output_type": "execute_result"
    }
   ],
   "source": [
    "np.dot(a, b.T)"
   ]
  },
  {
   "cell_type": "code",
   "execution_count": 11,
   "metadata": {
    "collapsed": false
   },
   "outputs": [],
   "source": [
    "expression_matrix = pd.read_csv(\"data/expression_matrix.csv\", index_col=0)"
   ]
  },
  {
   "cell_type": "code",
   "execution_count": 12,
   "metadata": {
    "collapsed": false
   },
   "outputs": [
    {
     "data": {
      "text/html": [
       "<div>\n",
       "<table border=\"1\" class=\"dataframe\">\n",
       "  <thead>\n",
       "    <tr style=\"text-align: right;\">\n",
       "      <th></th>\n",
       "      <th>ENSG00000000460.12</th>\n",
       "      <th>ENSG00000001630.11</th>\n",
       "      <th>ENSG00000003989.12</th>\n",
       "      <th>ENSG00000005448.12</th>\n",
       "      <th>ENSG00000010292.8</th>\n",
       "      <th>ENSG00000011426.6</th>\n",
       "      <th>ENSG00000012048.14</th>\n",
       "      <th>ENSG00000018408.10</th>\n",
       "      <th>ENSG00000020922.7</th>\n",
       "      <th>ENSG00000022267.12</th>\n",
       "      <th>...</th>\n",
       "      <th>ENSG00000267519.1</th>\n",
       "      <th>ENSG00000267918.1</th>\n",
       "      <th>ENSG00000268310.1</th>\n",
       "      <th>ENSG00000268518.1</th>\n",
       "      <th>ENSG00000268949.1</th>\n",
       "      <th>ENSG00000269028.2</th>\n",
       "      <th>ENSG00000269468.1</th>\n",
       "      <th>ENSG00000269821.1</th>\n",
       "      <th>ENSG00000271043.1</th>\n",
       "      <th>ENSG00000271430.1</th>\n",
       "    </tr>\n",
       "  </thead>\n",
       "  <tbody>\n",
       "    <tr>\n",
       "      <th>T0_CT_A01</th>\n",
       "      <td>0.554415</td>\n",
       "      <td>3.208543</td>\n",
       "      <td>0.506100</td>\n",
       "      <td>1.421659</td>\n",
       "      <td>1.429849</td>\n",
       "      <td>1.874732</td>\n",
       "      <td>1.362621</td>\n",
       "      <td>1.262280</td>\n",
       "      <td>1.653384</td>\n",
       "      <td>0.000000</td>\n",
       "      <td>...</td>\n",
       "      <td>0.0</td>\n",
       "      <td>4.022138</td>\n",
       "      <td>1.645471</td>\n",
       "      <td>0.000000</td>\n",
       "      <td>0.0</td>\n",
       "      <td>5.746440</td>\n",
       "      <td>0.0</td>\n",
       "      <td>1.101717</td>\n",
       "      <td>3.994034</td>\n",
       "      <td>0.438541</td>\n",
       "    </tr>\n",
       "    <tr>\n",
       "      <th>T0_CT_A03</th>\n",
       "      <td>4.070368</td>\n",
       "      <td>4.342511</td>\n",
       "      <td>0.495929</td>\n",
       "      <td>0.874064</td>\n",
       "      <td>1.312734</td>\n",
       "      <td>4.135850</td>\n",
       "      <td>0.257645</td>\n",
       "      <td>2.195940</td>\n",
       "      <td>1.723093</td>\n",
       "      <td>2.412685</td>\n",
       "      <td>...</td>\n",
       "      <td>0.0</td>\n",
       "      <td>2.941107</td>\n",
       "      <td>3.615268</td>\n",
       "      <td>0.000000</td>\n",
       "      <td>0.0</td>\n",
       "      <td>5.197508</td>\n",
       "      <td>0.0</td>\n",
       "      <td>0.036945</td>\n",
       "      <td>3.491729</td>\n",
       "      <td>0.707785</td>\n",
       "    </tr>\n",
       "    <tr>\n",
       "      <th>T0_CT_A05</th>\n",
       "      <td>1.596529</td>\n",
       "      <td>2.164200</td>\n",
       "      <td>0.585720</td>\n",
       "      <td>4.807760</td>\n",
       "      <td>1.054828</td>\n",
       "      <td>4.375729</td>\n",
       "      <td>2.890155</td>\n",
       "      <td>2.308178</td>\n",
       "      <td>2.482763</td>\n",
       "      <td>0.663564</td>\n",
       "      <td>...</td>\n",
       "      <td>0.0</td>\n",
       "      <td>3.657691</td>\n",
       "      <td>4.200923</td>\n",
       "      <td>0.000000</td>\n",
       "      <td>0.0</td>\n",
       "      <td>5.248455</td>\n",
       "      <td>0.0</td>\n",
       "      <td>0.143037</td>\n",
       "      <td>3.425073</td>\n",
       "      <td>0.000000</td>\n",
       "    </tr>\n",
       "    <tr>\n",
       "      <th>T0_CT_A06</th>\n",
       "      <td>0.000000</td>\n",
       "      <td>3.896221</td>\n",
       "      <td>0.565573</td>\n",
       "      <td>3.787244</td>\n",
       "      <td>0.569005</td>\n",
       "      <td>0.047300</td>\n",
       "      <td>1.195984</td>\n",
       "      <td>3.048709</td>\n",
       "      <td>3.073882</td>\n",
       "      <td>0.000000</td>\n",
       "      <td>...</td>\n",
       "      <td>0.0</td>\n",
       "      <td>3.896881</td>\n",
       "      <td>0.000000</td>\n",
       "      <td>0.000000</td>\n",
       "      <td>0.0</td>\n",
       "      <td>5.568360</td>\n",
       "      <td>0.0</td>\n",
       "      <td>0.078690</td>\n",
       "      <td>3.785566</td>\n",
       "      <td>1.014426</td>\n",
       "    </tr>\n",
       "    <tr>\n",
       "      <th>T0_CT_A07</th>\n",
       "      <td>0.000000</td>\n",
       "      <td>2.949861</td>\n",
       "      <td>2.528461</td>\n",
       "      <td>0.000000</td>\n",
       "      <td>1.396292</td>\n",
       "      <td>3.991444</td>\n",
       "      <td>2.558699</td>\n",
       "      <td>4.625688</td>\n",
       "      <td>4.300968</td>\n",
       "      <td>1.543614</td>\n",
       "      <td>...</td>\n",
       "      <td>0.0</td>\n",
       "      <td>5.798808</td>\n",
       "      <td>1.409916</td>\n",
       "      <td>0.822433</td>\n",
       "      <td>0.0</td>\n",
       "      <td>5.325826</td>\n",
       "      <td>0.0</td>\n",
       "      <td>0.234255</td>\n",
       "      <td>3.621283</td>\n",
       "      <td>4.297620</td>\n",
       "    </tr>\n",
       "  </tbody>\n",
       "</table>\n",
       "<p>5 rows × 575 columns</p>\n",
       "</div>"
      ],
      "text/plain": [
       "           ENSG00000000460.12  ENSG00000001630.11  ENSG00000003989.12  \\\n",
       "T0_CT_A01            0.554415            3.208543            0.506100   \n",
       "T0_CT_A03            4.070368            4.342511            0.495929   \n",
       "T0_CT_A05            1.596529            2.164200            0.585720   \n",
       "T0_CT_A06            0.000000            3.896221            0.565573   \n",
       "T0_CT_A07            0.000000            2.949861            2.528461   \n",
       "\n",
       "           ENSG00000005448.12  ENSG00000010292.8  ENSG00000011426.6  \\\n",
       "T0_CT_A01            1.421659           1.429849           1.874732   \n",
       "T0_CT_A03            0.874064           1.312734           4.135850   \n",
       "T0_CT_A05            4.807760           1.054828           4.375729   \n",
       "T0_CT_A06            3.787244           0.569005           0.047300   \n",
       "T0_CT_A07            0.000000           1.396292           3.991444   \n",
       "\n",
       "           ENSG00000012048.14  ENSG00000018408.10  ENSG00000020922.7  \\\n",
       "T0_CT_A01            1.362621            1.262280           1.653384   \n",
       "T0_CT_A03            0.257645            2.195940           1.723093   \n",
       "T0_CT_A05            2.890155            2.308178           2.482763   \n",
       "T0_CT_A06            1.195984            3.048709           3.073882   \n",
       "T0_CT_A07            2.558699            4.625688           4.300968   \n",
       "\n",
       "           ENSG00000022267.12        ...          ENSG00000267519.1  \\\n",
       "T0_CT_A01            0.000000        ...                        0.0   \n",
       "T0_CT_A03            2.412685        ...                        0.0   \n",
       "T0_CT_A05            0.663564        ...                        0.0   \n",
       "T0_CT_A06            0.000000        ...                        0.0   \n",
       "T0_CT_A07            1.543614        ...                        0.0   \n",
       "\n",
       "           ENSG00000267918.1  ENSG00000268310.1  ENSG00000268518.1  \\\n",
       "T0_CT_A01           4.022138           1.645471           0.000000   \n",
       "T0_CT_A03           2.941107           3.615268           0.000000   \n",
       "T0_CT_A05           3.657691           4.200923           0.000000   \n",
       "T0_CT_A06           3.896881           0.000000           0.000000   \n",
       "T0_CT_A07           5.798808           1.409916           0.822433   \n",
       "\n",
       "           ENSG00000268949.1  ENSG00000269028.2  ENSG00000269468.1  \\\n",
       "T0_CT_A01                0.0           5.746440                0.0   \n",
       "T0_CT_A03                0.0           5.197508                0.0   \n",
       "T0_CT_A05                0.0           5.248455                0.0   \n",
       "T0_CT_A06                0.0           5.568360                0.0   \n",
       "T0_CT_A07                0.0           5.325826                0.0   \n",
       "\n",
       "           ENSG00000269821.1  ENSG00000271043.1  ENSG00000271430.1  \n",
       "T0_CT_A01           1.101717           3.994034           0.438541  \n",
       "T0_CT_A03           0.036945           3.491729           0.707785  \n",
       "T0_CT_A05           0.143037           3.425073           0.000000  \n",
       "T0_CT_A06           0.078690           3.785566           1.014426  \n",
       "T0_CT_A07           0.234255           3.621283           4.297620  \n",
       "\n",
       "[5 rows x 575 columns]"
      ]
     },
     "execution_count": 12,
     "metadata": {},
     "output_type": "execute_result"
    }
   ],
   "source": [
    "expression_matrix.head()"
   ]
  },
  {
   "cell_type": "code",
   "execution_count": null,
   "metadata": {
    "collapsed": true
   },
   "outputs": [],
   "source": []
  }
 ],
 "metadata": {
  "kernelspec": {
   "display_name": "Python 3",
   "language": "python",
   "name": "python3"
  },
  "language_info": {
   "codemirror_mode": {
    "name": "ipython",
    "version": 3
   },
   "file_extension": ".py",
   "mimetype": "text/x-python",
   "name": "python",
   "nbconvert_exporter": "python",
   "pygments_lexer": "ipython3",
   "version": "3.5.1"
  }
 },
 "nbformat": 4,
 "nbformat_minor": 0
}
