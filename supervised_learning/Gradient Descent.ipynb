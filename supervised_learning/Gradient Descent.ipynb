{
 "cells": [
  {
   "cell_type": "markdown",
   "metadata": {},
   "source": [
    "# Gradient descent exercise"
   ]
  },
  {
   "cell_type": "code",
   "execution_count": null,
   "metadata": {
    "collapsed": false
   },
   "outputs": [],
   "source": [
    "import numpy as np\n",
    "from plotly.offline import init_notebook_mode\n",
    "from gradient_descent import *\n",
    "init_notebook_mode()"
   ]
  },
  {
   "cell_type": "code",
   "execution_count": null,
   "metadata": {
    "collapsed": false
   },
   "outputs": [],
   "source": [
    "# Generate a new line dataset with noise\n",
    "X, Y = generate_line(slope=3, intercept=0)"
   ]
  },
  {
   "cell_type": "code",
   "execution_count": null,
   "metadata": {
    "collapsed": false
   },
   "outputs": [],
   "source": [
    "# Set initial guess\n",
    "theta = np.array([1, -5])\n",
    "\n",
    "# Set number of iteration\n",
    "n_iter = 100\n",
    "\n",
    "# Set a record to keep track of GD\n",
    "trace = np.zeros((n_iter,2))\n",
    "\n",
    "# Learn!\n",
    "for i in range(n_iter):\n",
    "    trace[i] = theta\n",
    "    theta = gradient_descent(X, Y, theta, -0.01)\n"
   ]
  },
  {
   "cell_type": "code",
   "execution_count": null,
   "metadata": {
    "collapsed": false
   },
   "outputs": [],
   "source": [
    "plot_cost_and_trace(X, Y, trace)"
   ]
  },
  {
   "cell_type": "markdown",
   "metadata": {
    "collapsed": true
   },
   "source": [
    "# Question 1\n",
    "\n",
    "Try different starting points by changing the value of `theta`. Try $(-10, -10)$ and $(1,1)$. Does the algorithm always converge?"
   ]
  },
  {
   "cell_type": "markdown",
   "metadata": {},
   "source": [
    "# Question 2\n",
    "Try changing the number of iterations with `n_iter`. What happens with small `n_iter`? Large `n_iter`? \n",
    "\n",
    "Is using a fixed number of iterations a good idea? Can we do better?"
   ]
  },
  {
   "cell_type": "markdown",
   "metadata": {},
   "source": [
    "# Question 3 (optional)\n",
    "\n",
    "`gradient_descent` takes an extra parameter - `alpha`:\n",
    "\n",
    "    gradient_descent(X, Y, np.array([-1, -1]), alpha=0.02)\n",
    "    \n",
    "Try using a small `alpha` (e.g. $1e-3$). Do things work?\n",
    "\n",
    "## Danger zone\n",
    "\n",
    "Try breaking things!\n",
    "\n",
    "_NB_: this will not show the cost function. \n",
    "\n",
    "* Set `alpha` to a negative number\n",
    "* Set `alpha` to a large number ($0.1$ is large enough here)"
   ]
  },
  {
   "cell_type": "code",
   "execution_count": null,
   "metadata": {
    "collapsed": true
   },
   "outputs": [],
   "source": []
  }
 ],
 "metadata": {
  "kernelspec": {
   "display_name": "Python 3",
   "language": "python",
   "name": "python3"
  },
  "language_info": {
   "codemirror_mode": {
    "name": "ipython",
    "version": 3
   },
   "file_extension": ".py",
   "mimetype": "text/x-python",
   "name": "python",
   "nbconvert_exporter": "python",
   "pygments_lexer": "ipython3",
   "version": "3.5.1"
  },
  "toc": {
   "toc_cell": false,
   "toc_number_sections": true,
   "toc_threshold": 6,
   "toc_window_display": false
  }
 },
 "nbformat": 4,
 "nbformat_minor": 0
}
