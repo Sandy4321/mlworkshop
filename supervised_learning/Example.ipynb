{
 "cells": [
  {
   "cell_type": "code",
   "execution_count": 3,
   "metadata": {
    "collapsed": false
   },
   "outputs": [],
   "source": [
    "import vcf\n",
    "from itertools import islice\n",
    "from sklearn.linear_model import LogisticRegression\n",
    "import sklearn\n",
    "import random\n",
    "random.seed(1)"
   ]
  },
  {
   "cell_type": "code",
   "execution_count": 4,
   "metadata": {
    "collapsed": true
   },
   "outputs": [],
   "source": [
    "features = [\"NSF\", \"NSM\", \"NSN\", \"REF\", \"SYN\", \n",
    "            \"U3\", \"U5\", \"ASS\", \"DSS\", \"INT\", \"R3\", \"R5\"]"
   ]
  },
  {
   "cell_type": "code",
   "execution_count": 5,
   "metadata": {
    "collapsed": false
   },
   "outputs": [],
   "source": [
    "mapping = {'0':'unkown',\n",
    "           '1':'untested',\n",
    "           '2':'non-pathogenic',\n",
    "           '3':'probable non-pathogenic',\n",
    "           '4':'probable pathogenic',\n",
    "           '5':'pathogenic',\n",
    "           '6':'drug response',\n",
    "           '7':'histocompatibility',\n",
    "           '255':'other'}"
   ]
  },
  {
   "cell_type": "code",
   "execution_count": 6,
   "metadata": {
    "collapsed": true
   },
   "outputs": [],
   "source": [
    "def random_boolean(prob=0.5):\n",
    "    return random.uniform(0,1) < prob"
   ]
  },
  {
   "cell_type": "code",
   "execution_count": 63,
   "metadata": {
    "collapsed": false,
    "scrolled": true
   },
   "outputs": [],
   "source": [
    "def prepare_data(filename=\"clinvar.vcf.gz\", n=None):\n",
    "    reader = vcf.Reader(filename=filename, \n",
    "                    encoding='utf-8',\n",
    "                    compressed=True)\n",
    "    \n",
    "    if n is not None:\n",
    "        reader = islice(reader, n)\n",
    "\n",
    "    variants = []\n",
    "    clin_sig = []\n",
    "\n",
    "    for v in reader:\n",
    "        sig = v.INFO['CLNSIG']\n",
    "        if len(sig) == 1:\n",
    "            sig = sig[0]\n",
    "            if '|' not in sig:\n",
    "                sig = int(sig)\n",
    "                if 2 <= sig <= 5:\n",
    "                    clin_sig.append(sig)\n",
    "                    variant_info = [f in v.INFO for f in features]\n",
    "                    variants.append(variant_info)\n",
    "\n",
    "    return np.array(variants), np.array(clin_sig)"
   ]
  },
  {
   "cell_type": "code",
   "execution_count": 8,
   "metadata": {
    "collapsed": true
   },
   "outputs": [],
   "source": [
    "def split_train_test(data, labels, prob=0.8):\n",
    "    assert data.shape[0] == labels.shape[0]\n",
    "    train = np.random.uniform(size=data.shape[0]) < prob\n",
    "    test = np.invert(train)\n",
    "    return data[train], data[test], labels[train], labels[test]"
   ]
  },
  {
   "cell_type": "code",
   "execution_count": 64,
   "metadata": {
    "collapsed": false
   },
   "outputs": [],
   "source": [
    "data, labels = prepare_data(n=10000)"
   ]
  },
  {
   "cell_type": "code",
   "execution_count": 10,
   "metadata": {
    "collapsed": false
   },
   "outputs": [],
   "source": [
    "def exclude_feature(data_train, labels_train, feature=0):\n",
    "    feature_negative = np.invert(data_train[:,feature])\n",
    "    return data_train[feature_negative], labels_train[feature_negative]"
   ]
  },
  {
   "cell_type": "code",
   "execution_count": 65,
   "metadata": {
    "collapsed": true
   },
   "outputs": [],
   "source": [
    "data_train, data_test, labels_train, labels_test = split_train_test(data, labels)\n",
    "\n",
    "data_train_biased, labels_train_biased = exclude_feature(data_train, labels_train, 0)"
   ]
  },
  {
   "cell_type": "code",
   "execution_count": 98,
   "metadata": {
    "collapsed": false
   },
   "outputs": [
    {
     "data": {
      "text/plain": [
       "0.68962722852512159"
      ]
     },
     "execution_count": 98,
     "metadata": {},
     "output_type": "execute_result"
    }
   ],
   "source": [
    "logistic = LogisticRegression(C=0.1).fit(data_train, labels_train)\n",
    "\n",
    "pr_train = logistic.predict(data_train)\n",
    "sklearn.metrics.accuracy_score(labels_train, pr_train)"
   ]
  },
  {
   "cell_type": "code",
   "execution_count": 99,
   "metadata": {
    "collapsed": false
   },
   "outputs": [
    {
     "data": {
      "text/plain": [
       "0.68502202643171806"
      ]
     },
     "execution_count": 99,
     "metadata": {},
     "output_type": "execute_result"
    }
   ],
   "source": [
    "pr_test = logistic.predict(data_test)\n",
    "test_accuracy = sklearn.metrics.accuracy_score(labels_test, pr_test)\n",
    "test_accuracy"
   ]
  },
  {
   "cell_type": "code",
   "execution_count": 87,
   "metadata": {
    "collapsed": true
   },
   "outputs": [],
   "source": [
    "from sklearn.tree import DecisionTreeClassifier\n",
    "from sklearn.ensemble import RandomForestClassifier"
   ]
  },
  {
   "cell_type": "code",
   "execution_count": 101,
   "metadata": {
    "collapsed": false
   },
   "outputs": [],
   "source": [
    "model = DecisionTreeClassifier().fit(data_train_biased, labels_train_biased)"
   ]
  },
  {
   "cell_type": "code",
   "execution_count": 102,
   "metadata": {
    "collapsed": true
   },
   "outputs": [],
   "source": [
    "pr = model.predict(data_test)"
   ]
  },
  {
   "cell_type": "code",
   "execution_count": 103,
   "metadata": {
    "collapsed": false
   },
   "outputs": [
    {
     "data": {
      "text/plain": [
       "0.70154185022026427"
      ]
     },
     "execution_count": 103,
     "metadata": {},
     "output_type": "execute_result"
    }
   ],
   "source": [
    "sklearn.metrics.accuracy_score(labels_test, pr)"
   ]
  },
  {
   "cell_type": "code",
   "execution_count": 95,
   "metadata": {
    "collapsed": false
   },
   "outputs": [
    {
     "data": {
      "text/plain": [
       "array([ 0.10982887,  0.07874834,  0.08669554,  0.13483167,  0.37637308,\n",
       "        0.01144786,  0.02688415,  0.02047467,  0.02662459,  0.0951942 ,\n",
       "        0.01331497,  0.01958205])"
      ]
     },
     "execution_count": 95,
     "metadata": {},
     "output_type": "execute_result"
    }
   ],
   "source": [
    "model.feature_importances_"
   ]
  },
  {
   "cell_type": "code",
   "execution_count": 91,
   "metadata": {
    "collapsed": true
   },
   "outputs": [],
   "source": [
    "model = RandomForestClassifier(100).fit(data_train, labels_train)"
   ]
  },
  {
   "cell_type": "code",
   "execution_count": 92,
   "metadata": {
    "collapsed": true
   },
   "outputs": [],
   "source": [
    "pr = forest.predict(data_test)"
   ]
  },
  {
   "cell_type": "code",
   "execution_count": 93,
   "metadata": {
    "collapsed": false
   },
   "outputs": [
    {
     "data": {
      "text/plain": [
       "0.69823788546255505"
      ]
     },
     "execution_count": 93,
     "metadata": {},
     "output_type": "execute_result"
    }
   ],
   "source": [
    "sklearn.metrics.accuracy_score(labels_test, pr)"
   ]
  },
  {
   "cell_type": "code",
   "execution_count": 94,
   "metadata": {
    "collapsed": false
   },
   "outputs": [
    {
     "data": {
      "text/plain": [
       "array([ 0.13200448,  0.07973197,  0.10685761,  0.12877877,  0.34086688,\n",
       "        0.01155334,  0.02839986,  0.01912826,  0.02813924,  0.09281263,\n",
       "        0.01436989,  0.01735707])"
      ]
     },
     "execution_count": 94,
     "metadata": {},
     "output_type": "execute_result"
    }
   ],
   "source": [
    "forest.feature_importances_"
   ]
  },
  {
   "cell_type": "code",
   "execution_count": null,
   "metadata": {
    "collapsed": true
   },
   "outputs": [],
   "source": []
  }
 ],
 "metadata": {
  "kernelspec": {
   "display_name": "Python 3",
   "language": "python",
   "name": "python3"
  },
  "language_info": {
   "codemirror_mode": {
    "name": "ipython",
    "version": 3
   },
   "file_extension": ".py",
   "mimetype": "text/x-python",
   "name": "python",
   "nbconvert_exporter": "python",
   "pygments_lexer": "ipython3",
   "version": "3.5.1"
  },
  "toc": {
   "toc_cell": false,
   "toc_number_sections": true,
   "toc_threshold": 6,
   "toc_window_display": false
  }
 },
 "nbformat": 4,
 "nbformat_minor": 0
}
