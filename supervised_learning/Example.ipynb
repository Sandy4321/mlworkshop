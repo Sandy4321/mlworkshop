{
 "cells": [
  {
   "cell_type": "code",
   "execution_count": 36,
   "metadata": {
    "collapsed": false
   },
   "outputs": [],
   "source": [
    "import vcf\n",
    "from itertools import islice\n",
    "from sklearn.linear_model import LogisticRegression\n",
    "import sklearn\n",
    "import random\n",
    "random.seed(1)"
   ]
  },
  {
   "cell_type": "code",
   "execution_count": 15,
   "metadata": {
    "collapsed": true
   },
   "outputs": [],
   "source": [
    "features = [\"NSF\", \"NSM\", \"NSN\", \"REF\", \"SYN\", \n",
    "            \"U3\", \"U5\", \"ASS\", \"DSS\", \"INT\", \"R3\", \"R5\"]"
   ]
  },
  {
   "cell_type": "code",
   "execution_count": 16,
   "metadata": {
    "collapsed": false
   },
   "outputs": [],
   "source": [
    "mapping = {'0':'unkown',\n",
    "           '1':'untested',\n",
    "           '2':'non-pathogenic',\n",
    "           '3':'probable non-pathogenic',\n",
    "           '4':'probable pathogenic',\n",
    "           '5':'pathogenic',\n",
    "           '6':'drug response',\n",
    "           '7':'histocompatibility',\n",
    "           '255':'other'}"
   ]
  },
  {
   "cell_type": "code",
   "execution_count": 17,
   "metadata": {
    "collapsed": true
   },
   "outputs": [],
   "source": [
    "def random_boolean(prob=0.5):\n",
    "    return random.uniform(0,1) < prob"
   ]
  },
  {
   "cell_type": "code",
   "execution_count": 29,
   "metadata": {
    "collapsed": false,
    "scrolled": true
   },
   "outputs": [],
   "source": [
    "def prepare_data(filename=\"clinvar.vcf.gz\", n=None):\n",
    "    reader = vcf.Reader(filename=filename, \n",
    "                    encoding='utf-8',\n",
    "                    compressed=True)\n",
    "    \n",
    "    if n is not None:\n",
    "        reader = islice(reader, n)\n",
    "\n",
    "    variants = []\n",
    "    clin_sig = []\n",
    "\n",
    "    for v in reader:\n",
    "        sig = v.INFO['CLNSIG']\n",
    "        if len(sig) == 1:\n",
    "            sig = sig[0]\n",
    "            if '|' not in sig:\n",
    "                sig = int(sig)\n",
    "                if sig == 2 or sig == 5:\n",
    "                    clin_sig.append(sig)\n",
    "                    variant_info = [f in v.INFO for f in features]\n",
    "                    variants.append(variant_info)\n",
    "\n",
    "    return np.array(variants), np.array(clin_sig)"
   ]
  },
  {
   "cell_type": "code",
   "execution_count": 30,
   "metadata": {
    "collapsed": true
   },
   "outputs": [],
   "source": [
    "def split_train_test(data, labels, prob=0.8):\n",
    "    assert data.shape[0] == labels.shape[0]\n",
    "    train = np.random.uniform(size=data.shape[0]) < prob\n",
    "    test = np.invert(train)\n",
    "    return data[train], data[test], labels[train], labels[test]"
   ]
  },
  {
   "cell_type": "code",
   "execution_count": 31,
   "metadata": {
    "collapsed": false
   },
   "outputs": [],
   "source": [
    "data, labels = prepare_data()"
   ]
  },
  {
   "cell_type": "code",
   "execution_count": 140,
   "metadata": {
    "collapsed": false
   },
   "outputs": [],
   "source": [
    "def exclude_feature(data_train, labels_train, feature=0):\n",
    "    feature_negative = np.invert(data_train[:,feature])\n",
    "    return data_train[feature_negative], labels_train[feature_negative]"
   ]
  },
  {
   "cell_type": "code",
   "execution_count": 151,
   "metadata": {
    "collapsed": false
   },
   "outputs": [],
   "source": [
    "data_train, data_test, labels_train, labels_test = split_train_test(data, labels)\n",
    "data_train_biased, labels_train_biased = exclude_feature(data_train, labels_train, 1)"
   ]
  },
  {
   "cell_type": "code",
   "execution_count": 152,
   "metadata": {
    "collapsed": false
   },
   "outputs": [],
   "source": [
    "model_biased = LogisticRegression().fit(data_train_biased, labels_train_biased)"
   ]
  },
  {
   "cell_type": "code",
   "execution_count": 153,
   "metadata": {
    "collapsed": false
   },
   "outputs": [
    {
     "data": {
      "text/plain": [
       "0.94059276667972325"
      ]
     },
     "execution_count": 153,
     "metadata": {},
     "output_type": "execute_result"
    }
   ],
   "source": [
    "pr_train_biased = model_biased.predict(data_train_biased)\n",
    "bias_train_accuracy = sklearn.metrics.accuracy_score(labels_train_biased, pr_train_biased)\n",
    "bias_train_accuracy"
   ]
  },
  {
   "cell_type": "code",
   "execution_count": 154,
   "metadata": {
    "collapsed": false
   },
   "outputs": [
    {
     "data": {
      "text/plain": [
       "array([[ 3.76326193,  0.        ,  4.75489905,  2.30891384, -4.92705175,\n",
       "        -1.67820222, -1.35374587,  3.67738094,  4.53773854, -2.12268436,\n",
       "         0.30787301, -0.02104479]])"
      ]
     },
     "execution_count": 154,
     "metadata": {},
     "output_type": "execute_result"
    }
   ],
   "source": [
    "model_biased.coef_"
   ]
  },
  {
   "cell_type": "code",
   "execution_count": 155,
   "metadata": {
    "collapsed": false
   },
   "outputs": [
    {
     "data": {
      "text/plain": [
       "0.88543347513569015"
      ]
     },
     "execution_count": 155,
     "metadata": {},
     "output_type": "execute_result"
    }
   ],
   "source": [
    "pr_test = model_biased.predict(data_test)\n",
    "bias_test_accuracy = sklearn.metrics.accuracy_score(labels_test, pr_test)\n",
    "bias_test_accuracy"
   ]
  },
  {
   "cell_type": "code",
   "execution_count": 156,
   "metadata": {
    "collapsed": true
   },
   "outputs": [],
   "source": [
    "model_regularized = LogisticRegression(C=0.001).fit(data_train_biased, labels_train_biased)"
   ]
  },
  {
   "cell_type": "code",
   "execution_count": 157,
   "metadata": {
    "collapsed": false
   },
   "outputs": [
    {
     "data": {
      "text/plain": [
       "0.91663402532967753"
      ]
     },
     "execution_count": 157,
     "metadata": {},
     "output_type": "execute_result"
    }
   ],
   "source": [
    "pr_train_regularized = model_regularized.predict(data_train_biased)\n",
    "regularized_train_accuracy = sklearn.metrics.accuracy_score(labels_train_biased, pr_train_regularized)\n",
    "regularized_train_accuracy"
   ]
  },
  {
   "cell_type": "code",
   "execution_count": 158,
   "metadata": {
    "collapsed": false
   },
   "outputs": [
    {
     "data": {
      "text/plain": [
       "0.87589848907143908"
      ]
     },
     "execution_count": 158,
     "metadata": {},
     "output_type": "execute_result"
    }
   ],
   "source": [
    "pr_test = model_regularized.predict(data_test)\n",
    "regularized_test_accuracy = sklearn.metrics.accuracy_score(labels_test, pr_test)\n",
    "regularized_test_accuracy"
   ]
  },
  {
   "cell_type": "code",
   "execution_count": 159,
   "metadata": {
    "collapsed": false
   },
   "outputs": [
    {
     "data": {
      "text/plain": [
       "array([[ 0.82754514,  0.        ,  0.67805755,  0.52803158, -0.96629316,\n",
       "        -0.04992243, -0.03072477,  0.18139155,  0.24689715, -0.54249605,\n",
       "         0.00142071, -0.03500577]])"
      ]
     },
     "execution_count": 159,
     "metadata": {},
     "output_type": "execute_result"
    }
   ],
   "source": [
    "model_regularized.coef_"
   ]
  },
  {
   "cell_type": "code",
   "execution_count": 160,
   "metadata": {
    "collapsed": false
   },
   "outputs": [
    {
     "data": {
      "text/plain": [
       "False"
      ]
     },
     "execution_count": 160,
     "metadata": {},
     "output_type": "execute_result"
    }
   ],
   "source": [
    "regularized_test_accuracy > bias_test_accuracy"
   ]
  },
  {
   "cell_type": "code",
   "execution_count": null,
   "metadata": {
    "collapsed": true
   },
   "outputs": [],
   "source": []
  }
 ],
 "metadata": {
  "kernelspec": {
   "display_name": "Python 3",
   "language": "python",
   "name": "python3"
  },
  "language_info": {
   "codemirror_mode": {
    "name": "ipython",
    "version": 3
   },
   "file_extension": ".py",
   "mimetype": "text/x-python",
   "name": "python",
   "nbconvert_exporter": "python",
   "pygments_lexer": "ipython3",
   "version": "3.5.1"
  },
  "toc": {
   "toc_cell": false,
   "toc_number_sections": true,
   "toc_threshold": 6,
   "toc_window_display": false
  }
 },
 "nbformat": 4,
 "nbformat_minor": 0
}
