{
 "cells": [
  {
   "cell_type": "markdown",
   "metadata": {},
   "source": [
    "# Clustering"
   ]
  },
  {
   "cell_type": "markdown",
   "metadata": {},
   "source": [
    "## Clustering as unsupervised learning"
   ]
  },
  {
   "cell_type": "markdown",
   "metadata": {},
   "source": [
    "Clustering is an application of machine learning that pervades biology as well as numerous other domains. The question clustering answers is simple: given a large number of data points, can we group these points so that they share common properties? Moreover, exactly what properties do they share? For example, in this portion of the workshop, we will be clustering cells based on gene expression data. Rather than examining each cell individually, we want to understand the primary groups into which the cells can be separated.\n",
    "\n",
    "Clustering is an example of *unsupervised learning*, in which we don't have the \"correct\" answer for training data with which we can establish our model's accuracy. While we sometimes have a ground truth against which we can compare our results, more often we don't know what the proper answer is. Indeed, many possible clusterings are possible for a given dataset, depending on what algorithm and parameters you use, and which is best depends on the question you hope to answer. For instance, in clustering cells by gene expression data, sometimes we will want only three clusters that broadly summarize trends in the underlying data; in other cases, we might want 100 clusters, in which each cluster is smaller and more homogeneous in its properties. Which we prefer will depend on what biological question we want to address."
   ]
  },
  {
   "cell_type": "markdown",
   "metadata": {},
   "source": [
    "## The problem: clustering gene expression data"
   ]
  },
  {
   "cell_type": "markdown",
   "metadata": {},
   "source": [
    "[Trapnell (2014)](http://www.nature.com/nbt/journal/v32/n4/fig_tab/nbt.2859_F1.html) performed single-cell RNA-seq on differentiating skeletal myoblasts at 0, 24, 48, and 72 hours. The original data are available via [GEO database accession number GSE52529](ftp://ftp.ncbi.nlm.nih.gov/geo/series/GSE52nnn/GSE52529/suppl/GSE52529_fpkm matrix.txt.gz). We have at hand a cleaned-up version from [Sincell](https://www.bioconductor.org/packages/3.3/bioc/vignettes/sincell/inst/doc/sincell-vignette.pdf), in which only the expression levels for 575 differentially-expressed genes have been retained across 271 cells drawn from the various timepoints.\n",
    "\n",
    "Our goal is to cluster the 271 cells based on gene expression. *Clustering* is simply a means of grouping related items in your data together, allowing you to gain insight into overarching trends. In this case, we expect cells at each timepoint to have relatively similar expression levels across different genes, meaning that we hope cells from the same timepoints will cluster together. In this regard, knowing what timepoint each cell comes from provides us with a \"ground truth\" means of evaluating our clustering&mdash;if we see cells from the same timepoint present in the same cluster, it means our clustering is working as intended. This will give us confidence in applying our clustering methods to other single-cell datasets, where we hope to discover underlying structure based on factors other than time since cell division."
   ]
  },
  {
   "cell_type": "markdown",
   "metadata": {},
   "source": [
    "## Our first clustering algorithm: k-means\n",
    "\n",
    "K-means is an extremely simple clustering algorithm that is nonetheless quite effective.\n",
    "\n",
    "1. Decide how many clusters $k$ you wish to use.\n",
    "2. Place $k$ cluster centres (\"centroids\") at random locations in the space in which your data lives.\n",
    "3. Assign each data point to the cluster corresponding to its closest centroid.\n",
    "4. Repeat:\n",
    "    1. For each cluster, move its centroid to the centre (i.e., mean) of all points belonging to the cluster.\n",
    "    2. Assign each data point to its closest centroid.\n",
    "    3. If no points changed their cluster assignments, exit. Otherwise, return to step 4.\n",
    "\n",
    "The following example illustrates the algorithm. Cluster centroids are circles, while data points are squares. Here, we have arbitrarily chosen to create $k=3$ clusters.\n",
    "\n",
    "| Step | Illustration |\n",
    "| ---- | ------------ |\n",
    "| Step 1: Place $k=3$ centroids randomly. Here, we have arbitrariliy chosen $k=3$&mdash;we could have easily used a different value of $k$. | ![K-means step 1](images/kmeans_example_step1.svg) |\n",
    "| Step 2: Assign each data point to its closest centroid. | ![K-means step 2](images/kmeans_example_step2.svg) |\n",
    "| Step 3: Move each centroid to the centre of all data points belonging to its cluster. | ![K-means step 3](images/kmeans_example_step3.svg) |\n",
    "| Step 4:Reassign each data point to the cluster with the closest centroid. | ![K-means step 4](images/kmeans_example_step4.svg)\n",
    "\n",
    "(Images taken [from Wikipedia](https://en.wikipedia.org/wiki/K-means_clustering#/media/File:K_Means_Example_Step_1.svg).)\n",
    "\n",
    "We repeat these steps until convergence&mdash;that is, when no points change cluster assignments. Note that the precise solution you obtain will depend on the random locations you initially placed your centroids. Rerunning the algorithm with different starting points for the centroids may change the cluster assignments of some points."
   ]
  },
  {
   "cell_type": "markdown",
   "metadata": {},
   "source": [
    "## Clustering simulated data via k-means\n",
    "\n",
    "Now that we understand how k-means works, let's try running it on a test dataset. We will create three different two-dimensional Gaussian distributions with different means, then sample points from each. As we know what Gaussian we drew each point from, this gives us the ground-truth class for each point against which we can compare our clustering results."
   ]
  },
  {
   "cell_type": "code",
   "execution_count": 24,
   "metadata": {
    "collapsed": false
   },
   "outputs": [
    {
     "name": "stderr",
     "output_type": "stream",
     "text": [
      "/usr/lib/python3.5/site-packages/ipykernel/__main__.py:17: RuntimeWarning:\n",
      "\n",
      "covariance is not positive-semidefinite.\n",
      "\n"
     ]
    },
    {
     "data": {
      "text/html": [
       "<div id=\"93d4263b-c71e-4748-8d4e-e2d50189b46b\" style=\"height: 525; width: 100%;\" class=\"plotly-graph-div\"></div><script type=\"text/javascript\">require([\"plotly\"], function(Plotly) { window.PLOTLYENV=window.PLOTLYENV || {};window.PLOTLYENV.BASE_URL=\"https://plot.ly\";Plotly.newPlot(\"93d4263b-c71e-4748-8d4e-e2d50189b46b\", [{\"type\": \"scatter\", \"x\": [-2.0761151836068077, -2.6644387866034687, -4.577074074459764, -1.0014924859536072, -1.8258476420119525, -3.2799388984535507, -3.3339518191624866, -3.088873577565329, -3.8545222196839664, -2.4360236834789246, -3.499553019308658, -5.841325783963137, -4.467560569005484, -0.47393757378625345, -3.0738408282276906, -2.7850388383073135, -3.5521127058194666, -2.5314067285905266, -4.983204078172286, -2.6983863635435776, -2.464384006199349, -6.823036587104655, -3.402484667959158, -4.979460666668145, -1.6930611111244678, -3.2101835837977837, -3.8972234333408777, -5.557537992471107, -1.6803974271281394, -1.045586380037575, -1.7901381248132906, -4.513782146238453, -6.052047159878678, -2.6345995225606336, -3.558067286672947, -1.7979886823562392, -3.525061781041151, -4.575788803009889, -5.903347297685982, -1.0747827915814459], \"marker\": {\"symbol\": \"triangle-up\", \"color\": [2, 1, 1, 2, 2, 1, 1, 1, 1, 2, 1, 1, 1, 2, 1, 1, 1, 2, 1, 1, 2, 1, 1, 1, 2, 1, 1, 1, 2, 2, 2, 1, 1, 1, 1, 2, 1, 1, 1, 2], \"colorscale\": \"Portland\"}, \"mode\": \"markers\", \"y\": [-1.8408412678122776, -1.9421924721048385, -2.2716844197494828, -1.6557147421850362, -1.7977273818373152, -2.0482254057836284, -2.0575302756432188, -2.0153103565285404, -2.14720955545313, -1.9028431316018135, -2.086058590641322, -2.489478559971701, -2.2528183983837646, -1.564832232276759, -2.0127206469852936, -1.962968385931296, -2.0951131101234175, -1.9192748818187217, -2.3416489167812973, -1.9480406614145471, -1.907728798005813, -2.658599043424368, -2.0693365107216066, -2.3410040348452763, -1.7748520888000676, -2.0362085750629872, -2.1545657441337096, -2.4405901008231283, -1.7726705009506751, -1.663310849573208, -1.7915756609912439, -2.260781044269467, -2.5257797811201357, -1.9370520267265792, -2.0961389128236387, -1.7929280858426235, -2.090453015254633, -2.2714630045136768, -2.5001630796405365, -1.668340549989646], \"name\": \"Class 0\"}, {\"type\": \"scatter\", \"x\": [0.1516334979171008, -3.4026256213599693, -1.5343271682258726, 0.401874461983152, 0.09777505349727189, -4.097162562360605, -3.5198668315596233, -1.6736497574426095, -4.847107613727763, -2.74078176629354, -1.4575397545697069, -1.6835318826670276, -3.295390860866406, -0.9154865563713059, -1.3435467426584615, -2.7057927649378266, -2.030452760720041, -2.3263355825460628, -2.13612571699457, -1.6111007558917056, -3.386787957925099, 1.2500057535073106, -2.2130913326969615, -0.8268689103977078, -1.9569397044389676, -3.9615982661575337, -2.4066824706144483, -4.2280702415858915, -3.8171253431116554, -1.9323133179305767, -2.910598818536909, -1.217876968597501, -2.772040356496469, -1.3985267319584975, -2.926147549314917, -1.7613291005776404, -3.480115078443837, -2.613179530612071, -0.08476612913479964, -2.346868418719897], \"marker\": {\"symbol\": \"cross\", \"color\": [2, 1, 2, 2, 2, 1, 1, 2, 1, 2, 2, 2, 1, 2, 2, 2, 2, 2, 2, 2, 1, 2, 2, 2, 2, 1, 2, 1, 1, 2, 2, 2, 2, 2, 2, 2, 1, 2, 2, 2], \"colorscale\": \"Portland\"}, \"mode\": \"markers\", \"y\": [-3.6293355474787043, -4.241631978000449, -3.9197779894156266, -3.586226240046125, -3.6386138055249053, -4.361280679901136, -4.2618292602205194, -3.943779256966937, -4.490474602637123, -4.127615352757225, -3.906549730666661, -3.9454816623903524, -4.223158518729585, -3.8131695838423396, -3.8869120194150755, -4.12158775602928, -4.005246133177878, -4.056218217535538, -4.023450538585083, -3.9330038663448526, -4.238903604951793, -3.440117657360779, -4.036709496411733, -3.7979033169524032, -3.9925819518542602, -4.337926857941128, -4.070059671159721, -4.383832300935968, -4.313038336277568, -3.9883395350664816, -4.15686993759219, -3.865262738510184, -4.133000307135084, -3.896383487326898, -4.159548535869644, -3.95888388131492, -4.254981178602675, -4.105633164398868, -3.6700603913809102, -4.059755433556042], \"name\": \"Class 1\"}, {\"type\": \"scatter\", \"x\": [3.193195357921826, 0.9703208622980224, 1.843734818412498, 2.1337699883257017, 2.5755194952071943, 1.5814729127010443, -0.8320001177614218, 3.5711171177590137, 4.225146065362595, 1.0507069765057315, 5.225976127844014, 3.2107181770167723, 3.9045082707779293, 2.1198226581026027, 0.27331731673164184, 5.133592573666249, 3.9546751881710014, 1.8104130967668128, 2.0156110579655575, 4.131594984375372, 1.8471816274636794, 3.7012212846100994, 1.9464153747312973, 1.2746898144453767, 5.329866971475365, 3.9835918859114487, 2.5090570403771064, 5.0681260604104335, 0.5379129438177701, 5.928524821139494, 0.17161098287557053, 5.887462850969581, 1.9096068701398738, 4.957571036486282, -0.33165348867343347, 5.163519820577715, 0.6709981086137136, 2.5647973096772807, 2.9236136359587683, -1.4225798168961221], \"marker\": {\"symbol\": \"star\", \"color\": [0, 0, 0, 0, 0, 0, 0, 0, 0, 0, 0, 0, 0, 0, 0, 0, 0, 0, 0, 0, 0, 0, 0, 0, 0, 0, 0, 0, 0, 0, 0, 0, 0, 0, 0, 0, 0, 0, 0, 0], \"colorscale\": \"Portland\"}, \"mode\": \"markers\", \"y\": [2.033281993259109, 1.6503447696373499, 1.8008088269133833, 1.850773529346149, 1.9268742404004668, 1.7556286576179, 1.3398567985269847, 2.0983870226897916, 2.2110573645631826, 1.6641929807950397, 2.383471545479984, 2.0363006700703528, 2.1558207117120287, 1.8483708062400608, 1.5302711428450242, 2.367556521120853, 2.1644630260226143, 1.7950684544369269, 1.830418150386469, 2.194941208976986, 1.8014026127933385, 2.120800221695701, 1.8184977280340129, 1.70277876972212, 2.4013689442302213, 2.169444539810656, 1.9154246745442631, 2.356278527299909, 1.5758533450873446, 2.504500441442987, 1.5127500721825702, 2.4974266471805295, 1.812156683327414, 2.337233082313115, 1.4260521052654749, 2.3727121234121573, 1.5987800841419042, 1.9250271167926942, 1.9868408305434708, 1.2381169338790934], \"name\": \"Class 2\"}], {\"yaxis\": {\"title\": \"y\"}, \"hovermode\": \"closest\", \"title\": \"Simulated data plotted via k-means\", \"xaxis\": {\"title\": \"x\"}}, {\"linkText\": \"Export to plot.ly\", \"showLink\": true})});</script>"
      ],
      "text/plain": [
       "<IPython.core.display.HTML object>"
      ]
     },
     "metadata": {},
     "output_type": "display_data"
    }
   ],
   "source": [
    "from cluster import plot_simulated\n",
    "import numpy as np\n",
    "import sklearn.cluster\n",
    "\n",
    "np.random.seed(1)\n",
    "\n",
    "def generate_simulated_points():                                                                                             \n",
    "  num_classes = 3                                                                                                            \n",
    "  points_per_class = 40                                                                                                      \n",
    "  points = np.zeros((num_classes * points_per_class, 2))                                                                     \n",
    "  labels = np.zeros(num_classes * points_per_class)                                                                          \n",
    "  means = [(-3, -2), (-2, -4), (3, 2)]                                                                                       \n",
    "  cov = [[0.8, 0.2], [3, 0.5]]                                                                                                           \n",
    "                                                                                                                             \n",
    "  for idx in range(num_classes):                                                                                             \n",
    "    rows = range(idx * points_per_class, (idx + 1) * points_per_class)                                                       \n",
    "    points[rows,:] = np.random.multivariate_normal(means[idx], cov, points_per_class)                                        \n",
    "    labels[rows] = idx                                                                                                       \n",
    "                                                                                                                             \n",
    "  idxs = np.random.permutation(np.arange(num_classes * points_per_class))                                                    \n",
    "  return (points[idxs,:], labels[idxs])  \n",
    "\n",
    "sim_points, sim_labels = generate_simulated_points()\n",
    "sim_preds_kmeans = sklearn.cluster.KMeans(n_clusters=3).fit_predict(sim_points)\n",
    "plot_simulated(sim_points, sim_preds_kmeans, sim_labels, 'k-means')"
   ]
  },
  {
   "cell_type": "markdown",
   "metadata": {},
   "source": [
    "In this plot, the ground-truth class is represented by the *shape* of point (triangle, plus sign, or star), while the cluster to which our algorithm assigned it is represented by the *colour* of the point (blue, red, or orange). Observe that the clustering assignments are largely consistent with the ground truth labels, meaning our clustering is accurate. This only breaks down when two clusters overlap, as with the red and blue clusters&mdash;there, we have some blue plus signs and some red triangles, which are incorrectly clustered. Note that there's no way for our clustering algorithm to determine the correct assignments in these cases&mdash;without information about each point beyond just its position in space, we cannot expect our clustering algorithm to recover the correct answer."
   ]
  },
  {
   "cell_type": "markdown",
   "metadata": {},
   "source": [
    "## Our second clustering algorithm: fitting a mixture of Gaussians using expectation maximization\n",
    "\n",
    "As an alternative to k-means, we can fit a *mixture of Gaussians* using *expectation maximization*. (You'll also see references to *GMMs* below, which are the same thing&mdash;*GMM* stands for *Gaussian mixture model*.) Let's first discuss what a mixture of Gaussians is. Imagine you have a bunch of points that you know were sampled from different Gaussian probability distributions.\n",
    "\n",
    "![MOG truth](images/mog_truth.png)\n",
    "\n",
    "Here, you see points drawn from three different Gaussians. Each Gaussian has parameters describing its mean and variance, which determine the position and shape of the distribution. As there is more probability mass under the \"centre\" of the Guassians than under the \"tails\", we see more points sampled under the centre of each distribution. But, of course, if you were to encounter this data in the real world, you wouldn't know the parameters of the Gaussians, so you would have no idea what the distributions look like.\n",
    "\n",
    "![MOG truth](images/mog_no_pdfs.png)\n",
    "\n",
    "In fact, you don't even know which Gaussian each point was sampled from.\n",
    "\n",
    "![MOG truth](images/mog_no_labels.png)\n",
    "\n",
    "However, to reduce the complexity of the problem, let's assume for the moment that you do know that the data was drawn from Gaussian distributions, however, and that there were originally three Gaussians. Given this knowledge, how do you determine the parameters for each Gaussian, and consequently what distribution each point belongs to? The answer is expectation maximization.\n",
    "\n",
    "Expectation maximization is an iterative algorithm that lets you establish both the parameters of the distributions from which your data was generated, as well as the most likely assignments of points to distributions. As such, in our example, we can think of each Gaussian corresponding to a cluster. To determine the cluster parameters and assignments, we use the following algorithm:\n",
    "\n",
    "1. E (expectation) step: Each cluster has associated with it parameters describing its properties. For our Gaussian example, this corresponds to a mean and variance for each Gaussian describing the position and shape of the distribution. For each data point, determine the *likelihood* that it was generated by each cluster.\n",
    "\n",
    "2. M (maximization) step: For each data point and each cluster, update the parameters of the cluster based on the points assigned to it.\n",
    "\n",
    "3. If the cluster assignments and parameters hardly changed (i.e., converged) in the E and M steps, exit. Otherwise return to step 1.\n",
    "\n",
    "![MOG all steps](images/mog_all_steps.png)\n",
    "\n",
    "Here we observe this process in action.\n",
    "\n",
    "* In step 1, we initialize three Gaussians with random means and variances.\n",
    "* In step 2, we have performed our first E and M steps. Each point is associated with its most likely Gaussian (E step); each Gaussian is adjusted to better fits its associated points (M step).\n",
    "* In step 3, we perform another run of the E and M steps.\n",
    "* In step 4, the algorithm has converged and so we terminate. The answer we arrive at precisely matches the ground truth.\n",
    "\n",
    "What is not captured by the image is that, unlike k-means, expectation maximization generates *soft* rather than *hard* assignments of points to clusters. K-means' assignments are \"hard\" because, at each step, every point is assigned with certainty to one and only one cluster. Expectation maximization, conversely, generates \"soft\" assignments, as every point is assigned with some probability to every cluster. This has two consequences. Firstly, the higher the probability of a point's assignment to a given cluster, the more \"weight\" that point will have in determining that cluster's parameters. For example, in step 2 of our EM example, the points directly under the centre of the red Gaussian will have a large influence in determining the updated mean of the distribution for step 3. But even the green points on the far right of the axis will have a small influence on the new mean of the red Gaussian, in accordance with their infinitesimal probability of having been generated by the red Gaussian. Once the algorithm converges, we can get hard assignments of points to clusters by simply taking the most probable cluster for each point.\n",
    "\n",
    "Relative to k-means, expectation maximization is a more general algorithm that can be used for purposes other than clustering. In fact, EM can be applied to a wide class of problems in which we confront *latent* (hidden) variables that affect our inference. In this example, the latent variables (or hidden knowledge) are which distribution generated each point. But you can also apply EM to diverse other problems. Imagine you were flipping two coins, each with some unknown bias towards or tails. Given the results of 100 coin flips (heads, tails, heads, heads, ...), in which one coin or the other was selected randomly at each step, you want to know which coin was flipped at each step, and what bias each coin has. This problem appears quite difficult, as you lack knowledge not only of the bias parameter associated with each coin, but also the identity of the coin used for each flip. Expectation maximization gives you a principled way of determining the most likely solution to this problem."
   ]
  },
  {
   "cell_type": "markdown",
   "metadata": {},
   "source": [
    "## Clustering simulated data via EM on a mixture of Gaussians\n",
    "\n",
    "Now that we understand we can cluster data using expectation maximization on a mixture of Gaussians, let's try running it on a test dataset."
   ]
  },
  {
   "cell_type": "code",
   "execution_count": 2,
   "metadata": {
    "collapsed": false
   },
   "outputs": [
    {
     "data": {
      "text/html": [
       "<div id=\"47902e27-fcef-442f-adf9-ecef8c117a7c\" style=\"height: 525; width: 100%;\" class=\"plotly-graph-div\"></div><script type=\"text/javascript\">require([\"plotly\"], function(Plotly) { window.PLOTLYENV=window.PLOTLYENV || {};window.PLOTLYENV.BASE_URL=\"https://plot.ly\";Plotly.newPlot(\"47902e27-fcef-442f-adf9-ecef8c117a7c\", [{\"type\": \"scatter\", \"x\": [-3.5281717522634555, -3.191835552361615, -2.0984092794072042, -4.14251819802214, -3.671246130836819, -2.8399629305521694, -2.809084515332534, -2.949192245223971, -2.511481853462503, -3.3224172040135076, -2.7144126747457413, -1.3756546363367583, -2.161016586125495, -4.4441138054295894, -2.9577862532844073, -3.122890225518648, -2.6843650527583947, -3.267888079626016, -1.8662305576645626, -3.1724282075504355, -3.306204012628372, -0.8144245934668386, -2.7699052646356166, -1.868370612548573, -3.7471582937508376, -2.879841047518371, -2.487070179581991, -1.537892062955026, -3.754397940996653, -4.117310348635278, -3.6916607517253093, -2.1345923706753216, -1.25518823578352, -3.208894233374778, -2.6809609039429017, -3.6871727001195995, -2.6998296800441723, -2.099144050735588, -1.3401978228901295, -4.100619177212922], \"marker\": {\"symbol\": \"triangle-up\", \"color\": [0, 0, 0, 0, 0, 0, 0, 0, 0, 0, 0, 2, 0, 0, 0, 0, 2, 0, 2, 0, 0, 2, 0, 0, 0, 0, 0, 2, 0, 0, 0, 2, 2, 0, 0, 0, 0, 2, 2, 0], \"colorscale\": \"Portland\"}, \"mode\": \"markers\", \"y\": [-3.0729686221561705, -2.8876289640848363, -1.4975056610981317, -2.3493427224128776, -2.012664598918901, -1.123831078883775, 0.10025513647884221, -2.6369956465693534, -2.0755717130210556, -2.3840543546684154, -1.114858835729272, -2.6117564136500753, -1.0688979186964427, -2.5044658629464513, -1.4171847862841778, -2.9357694342590688, -4.022201215824003, -1.469644533261814, -3.099891267314031, -2.877858417921372, -1.1720253573927537, -3.3964963354881377, -1.2379888196879754, -0.4801831835778012, -0.3075453989722534, -1.382796890292581, -2.2980928351027154, -4.060140709497654, -0.7471318447667121, -1.7655843021829078, -2.3967535268559774, -4.301538696880282, -2.761206900895103, -1.4133768088178025, -2.24937037547741, -2.8452056414987195, -2.3522498464935184, -2.683727859174333, -1.2579558394226644, -0.8552762901603859], \"name\": \"Class 0\"}, {\"type\": \"scatter\", \"x\": [-3.2300581356669618, -1.1981389681286552, -2.266218506003622, -3.373117320246756, -3.199268032335186, -0.801082120098493, -1.131113842994132, -2.1865697719073487, -0.3723492468510936, -1.576505645935887, -2.31011677351806, -2.1809203020781505, -1.2594435489037252, -2.6200008439481293, -2.3752849500901143, -1.5965083582092001, -1.9825905916999953, -1.8134386090117156, -1.922178872087294, -2.222328142610359, -1.2071931340806523, -3.857981864446752, -1.878178729008563, -2.670662286289031, -2.0246169558757785, -0.878582291764336, -1.767505440821262, -0.7262440698412234, -0.961175398140586, -2.0386955092660513, -1.4794236629266293, -2.447128564785998, -1.558635556431418, -2.3438536755710757, -1.4705346756472908, -2.1364447438960332, -1.1538393524149666, -1.6494540213358926, -3.094911845741042, -1.8017002798732302], \"marker\": {\"symbol\": \"cross\", \"color\": [0, 2, 2, 0, 0, 2, 2, 2, 2, 2, 2, 2, 2, 0, 2, 2, 2, 2, 2, 2, 2, 0, 2, 2, 2, 2, 2, 2, 2, 2, 2, 0, 2, 2, 2, 2, 2, 2, 0, 2], \"colorscale\": \"Portland\"}, \"mode\": \"markers\", \"y\": [-3.4494625040237845, -3.9534327015758546, -3.9673854533066413, -3.684840607957708, -3.1366546824559784, -3.814843582516056, -3.2495883601349917, -4.101745872529145, -3.6619883034255243, -3.922659931651441, -6.434837764107138, -4.603920627793257, -4.953700601807935, -3.301967965927781, -4.638730407454222, -3.406421476762933, -5.122018728746888, -3.5899483527917435, -3.3816197380014756, -4.200758068929997, -4.623530729679792, -2.7638359695471797, -2.8705160920880806, -3.6224362136790806, -4.775161619169159, -3.5910994620631724, -3.3174485931355147, -2.0328982507452653, -1.8130203530257423, -5.615772354703295, -5.1443413896231425, -2.775492295194501, -4.1001552332835, -3.956403143165753, -3.862298790002614, -4.11905418777481, -4.859515940831987, -5.3122834112374315, -3.830617566941332, -3.8809913541925414], \"name\": \"Class 1\"}, {\"type\": \"scatter\", \"x\": [2.8895529735826835, 4.16033856999377, 3.661020287598693, 3.4952113239779603, 3.2426694410817944, 3.8109516728035557, 5.190699728969733, 2.673500501921816, 2.299601495078745, 4.114382976779792, 1.7274412447540057, 2.8795354282114927, 2.482905542079772, 3.5031848134353263, 4.5588055406198595, 1.7802556030209673, 2.4542258320174324, 3.6800698398781044, 3.562761096619026, 2.3530833117450918, 3.65904979610021, 2.5991218082110734, 3.602319280295629, 3.986335187821242, 1.6680483334827518, 2.43769456898091, 3.280665077122639, 1.8176818734903664, 4.407540000241228, 1.325804192381068, 4.6169495988573, 1.3492787341758998, 3.623362176578033, 1.880884601440272, 4.904658708340981, 1.7631466234586026, 4.331457112587592, 3.2487991613877707, 3.043668993178389, 5.528325706806398], \"marker\": {\"symbol\": \"star\", \"color\": [1, 1, 1, 1, 1, 1, 1, 1, 1, 1, 1, 1, 1, 1, 1, 1, 1, 1, 1, 1, 1, 1, 1, 1, 1, 1, 1, 1, 1, 1, 1, 1, 1, 1, 1, 1, 1, 1, 1, 1], \"colorscale\": \"Portland\"}, \"mode\": \"markers\", \"y\": [1.382637936287639, 2.369492716375724, 3.792158208975567, 1.825296840257499, 2.2018301788740042, 3.044442094707259, 0.10363907710890752, 0.6573242106225641, 1.7966055510354415, 1.4134760611784074, 2.3135477204634323, 0.7668792645535734, 1.002973172349737, 3.293225882532262, 2.109402696425428, 4.449368649061397, 1.8011621371111033, 1.680198401101329, 2.2407370922377323, 2.901486891648711, 0.37256165938374264, 2.824005618450408, 2.4202822036470595, 2.213533901335442, 0.2393114396012166, 3.9548780750090344, 1.9268872962527221, 1.3342454818008735, 2.1291015797107256, 2.8250298244389858, 2.5027408819999044, 1.1094444158369514, 1.5650433170447724, 3.956078903703642, 3.1110566985605046, 2.8758389276492995, 1.7126921365239811, 1.7033588476291373, 1.773685757486395, 1.75136522228454], \"name\": \"Class 2\"}], {\"yaxis\": {\"title\": \"y\"}, \"hovermode\": \"closest\", \"title\": \"Simulated data plotted via EM on mixture of Gaussians\", \"xaxis\": {\"title\": \"x\"}}, {\"linkText\": \"Export to plot.ly\", \"showLink\": true})});</script>"
      ],
      "text/plain": [
       "<IPython.core.display.HTML object>"
      ]
     },
     "metadata": {},
     "output_type": "display_data"
    }
   ],
   "source": [
    "sim_preds_gmm = sklearn.mixture.GMM(n_components=3).fit_predict(sim_points)\n",
    "plot_simulated(sim_points, sim_preds_gmm, sim_labels, 'EM on mixture of Gaussians')"
   ]
  },
  {
   "cell_type": "markdown",
   "metadata": {},
   "source": [
    "Let's compare to our previous results on k-means."
   ]
  },
  {
   "cell_type": "code",
   "execution_count": 3,
   "metadata": {
    "collapsed": false
   },
   "outputs": [
    {
     "data": {
      "text/html": [
       "<div id=\"f12dbec4-0cc1-4033-8bcf-4092827531d3\" style=\"height: 525; width: 100%;\" class=\"plotly-graph-div\"></div><script type=\"text/javascript\">require([\"plotly\"], function(Plotly) { window.PLOTLYENV=window.PLOTLYENV || {};window.PLOTLYENV.BASE_URL=\"https://plot.ly\";Plotly.newPlot(\"f12dbec4-0cc1-4033-8bcf-4092827531d3\", [{\"type\": \"scatter\", \"x\": [-3.5281717522634555, -3.191835552361615, -2.0984092794072042, -4.14251819802214, -3.671246130836819, -2.8399629305521694, -2.809084515332534, -2.949192245223971, -2.511481853462503, -3.3224172040135076, -2.7144126747457413, -1.3756546363367583, -2.161016586125495, -4.4441138054295894, -2.9577862532844073, -3.122890225518648, -2.6843650527583947, -3.267888079626016, -1.8662305576645626, -3.1724282075504355, -3.306204012628372, -0.8144245934668386, -2.7699052646356166, -1.868370612548573, -3.7471582937508376, -2.879841047518371, -2.487070179581991, -1.537892062955026, -3.754397940996653, -4.117310348635278, -3.6916607517253093, -2.1345923706753216, -1.25518823578352, -3.208894233374778, -2.6809609039429017, -3.6871727001195995, -2.6998296800441723, -2.099144050735588, -1.3401978228901295, -4.100619177212922], \"marker\": {\"symbol\": \"triangle-up\", \"color\": [0, 0, 0, 0, 0, 0, 0, 0, 0, 0, 0, 2, 0, 0, 0, 0, 2, 0, 2, 0, 0, 2, 0, 0, 0, 0, 0, 2, 0, 0, 0, 2, 2, 0, 0, 0, 0, 0, 0, 0], \"colorscale\": \"Portland\"}, \"mode\": \"markers\", \"y\": [-3.0729686221561705, -2.8876289640848363, -1.4975056610981317, -2.3493427224128776, -2.012664598918901, -1.123831078883775, 0.10025513647884221, -2.6369956465693534, -2.0755717130210556, -2.3840543546684154, -1.114858835729272, -2.6117564136500753, -1.0688979186964427, -2.5044658629464513, -1.4171847862841778, -2.9357694342590688, -4.022201215824003, -1.469644533261814, -3.099891267314031, -2.877858417921372, -1.1720253573927537, -3.3964963354881377, -1.2379888196879754, -0.4801831835778012, -0.3075453989722534, -1.382796890292581, -2.2980928351027154, -4.060140709497654, -0.7471318447667121, -1.7655843021829078, -2.3967535268559774, -4.301538696880282, -2.761206900895103, -1.4133768088178025, -2.24937037547741, -2.8452056414987195, -2.3522498464935184, -2.683727859174333, -1.2579558394226644, -0.8552762901603859], \"name\": \"Class 0\"}, {\"type\": \"scatter\", \"x\": [-3.2300581356669618, -1.1981389681286552, -2.266218506003622, -3.373117320246756, -3.199268032335186, -0.801082120098493, -1.131113842994132, -2.1865697719073487, -0.3723492468510936, -1.576505645935887, -2.31011677351806, -2.1809203020781505, -1.2594435489037252, -2.6200008439481293, -2.3752849500901143, -1.5965083582092001, -1.9825905916999953, -1.8134386090117156, -1.922178872087294, -2.222328142610359, -1.2071931340806523, -3.857981864446752, -1.878178729008563, -2.670662286289031, -2.0246169558757785, -0.878582291764336, -1.767505440821262, -0.7262440698412234, -0.961175398140586, -2.0386955092660513, -1.4794236629266293, -2.447128564785998, -1.558635556431418, -2.3438536755710757, -1.4705346756472908, -2.1364447438960332, -1.1538393524149666, -1.6494540213358926, -3.094911845741042, -1.8017002798732302], \"marker\": {\"symbol\": \"cross\", \"color\": [2, 2, 2, 2, 0, 2, 2, 2, 2, 2, 2, 2, 2, 2, 2, 2, 2, 2, 2, 2, 2, 0, 2, 2, 2, 2, 2, 2, 0, 2, 2, 0, 2, 2, 2, 2, 2, 2, 2, 2], \"colorscale\": \"Portland\"}, \"mode\": \"markers\", \"y\": [-3.4494625040237845, -3.9534327015758546, -3.9673854533066413, -3.684840607957708, -3.1366546824559784, -3.814843582516056, -3.2495883601349917, -4.101745872529145, -3.6619883034255243, -3.922659931651441, -6.434837764107138, -4.603920627793257, -4.953700601807935, -3.301967965927781, -4.638730407454222, -3.406421476762933, -5.122018728746888, -3.5899483527917435, -3.3816197380014756, -4.200758068929997, -4.623530729679792, -2.7638359695471797, -2.8705160920880806, -3.6224362136790806, -4.775161619169159, -3.5910994620631724, -3.3174485931355147, -2.0328982507452653, -1.8130203530257423, -5.615772354703295, -5.1443413896231425, -2.775492295194501, -4.1001552332835, -3.956403143165753, -3.862298790002614, -4.11905418777481, -4.859515940831987, -5.3122834112374315, -3.830617566941332, -3.8809913541925414], \"name\": \"Class 1\"}, {\"type\": \"scatter\", \"x\": [2.8895529735826835, 4.16033856999377, 3.661020287598693, 3.4952113239779603, 3.2426694410817944, 3.8109516728035557, 5.190699728969733, 2.673500501921816, 2.299601495078745, 4.114382976779792, 1.7274412447540057, 2.8795354282114927, 2.482905542079772, 3.5031848134353263, 4.5588055406198595, 1.7802556030209673, 2.4542258320174324, 3.6800698398781044, 3.562761096619026, 2.3530833117450918, 3.65904979610021, 2.5991218082110734, 3.602319280295629, 3.986335187821242, 1.6680483334827518, 2.43769456898091, 3.280665077122639, 1.8176818734903664, 4.407540000241228, 1.325804192381068, 4.6169495988573, 1.3492787341758998, 3.623362176578033, 1.880884601440272, 4.904658708340981, 1.7631466234586026, 4.331457112587592, 3.2487991613877707, 3.043668993178389, 5.528325706806398], \"marker\": {\"symbol\": \"star\", \"color\": [1, 1, 1, 1, 1, 1, 1, 1, 1, 1, 1, 1, 1, 1, 1, 1, 1, 1, 1, 1, 1, 1, 1, 1, 1, 1, 1, 1, 1, 1, 1, 1, 1, 1, 1, 1, 1, 1, 1, 1], \"colorscale\": \"Portland\"}, \"mode\": \"markers\", \"y\": [1.382637936287639, 2.369492716375724, 3.792158208975567, 1.825296840257499, 2.2018301788740042, 3.044442094707259, 0.10363907710890752, 0.6573242106225641, 1.7966055510354415, 1.4134760611784074, 2.3135477204634323, 0.7668792645535734, 1.002973172349737, 3.293225882532262, 2.109402696425428, 4.449368649061397, 1.8011621371111033, 1.680198401101329, 2.2407370922377323, 2.901486891648711, 0.37256165938374264, 2.824005618450408, 2.4202822036470595, 2.213533901335442, 0.2393114396012166, 3.9548780750090344, 1.9268872962527221, 1.3342454818008735, 2.1291015797107256, 2.8250298244389858, 2.5027408819999044, 1.1094444158369514, 1.5650433170447724, 3.956078903703642, 3.1110566985605046, 2.8758389276492995, 1.7126921365239811, 1.7033588476291373, 1.773685757486395, 1.75136522228454], \"name\": \"Class 2\"}], {\"yaxis\": {\"title\": \"y\"}, \"hovermode\": \"closest\", \"title\": \"Simulated data plotted via k-means\", \"xaxis\": {\"title\": \"x\"}}, {\"linkText\": \"Export to plot.ly\", \"showLink\": true})});</script>"
      ],
      "text/plain": [
       "<IPython.core.display.HTML object>"
      ]
     },
     "metadata": {},
     "output_type": "display_data"
    }
   ],
   "source": [
    "plot_simulated(sim_points, sim_preds_kmeans, sim_labels, 'k-means')"
   ]
  },
  {
   "cell_type": "markdown",
   "metadata": {},
   "source": [
    "We can see that the two algorithms produce largely comparable results, but differ on a few points. For example, examine the two \"plus sign\" points around $(x,y)=(-\\frac{1}{3},-2)$. We can see that, under EM, both are assigned to the red cluster, but under k-means, one goes to red and one goes to blue."
   ]
  },
  {
   "cell_type": "markdown",
   "metadata": {},
   "source": [
    "## Evaluating clustering success: extrinsic metric via V-measure\n",
    "\n",
    "In determining whether our clustering was successful, we can draw upon both extrinsic and intrinsic measures. Extrinsic measures are similar to supervised learning&mdash;given knowledge of the ground truth concerning what classes each of your data points belongs to, you can determine how well a clustering recapitulates that structure. Consequently, on data for which you do not have the ground truth, so long as the properties of that data echo that of the data for which you know the classes, you assume that your clustering method works equally well. Intrinsic measures, by comparison, work even when you don't have ground-truth class assignments to compare against. Instead, intrinsic measures draw solely on properties of the clustering.\n",
    "\n",
    "We will first discuss V-measure, an extrinsic means of evaluating clusterings. While numerous other measures exist, V-measure has a wonderfully intuitive explanation, as it measures the *homogeneity* and *completeness* of a clustering. Homogeneity is maximized when all points in a cluster are drawn from the same ground-truth class, while completeness is maximized when all points in a class are assigned to only one cluster. Thus, a good clustering will optimize both of these metrics.\n",
    "\n",
    "To gain an intution for homogeneity and completeness, let's consider several scenarios. In a perfect clustering&mdash;that is, your clustering exactly recapitulates the true class structure&mdash;both homogeneity and completeness will reach their maximum values. However, in imperfect clusterings, homogeneity and completeness are often at odds with each other, as efforts to increase one will decrease the other. Consider a degenerate case in which every point is assigned to its own cluster, such that, given 271 cells, we have 271 clusters. Here, homogeneity is maximized, as each cluster indeed contains only one class of point; completeness, however, is extremely poor, as in our RNA-seq example, every cell from a given timepoint would be in a separate cluster. There's also a reciprocal degenerate case that maximizes completeness&mdash;imagine we placed every point in a single cluster. Then every cell from a given timepoint would indeed be in the same cluster as the other cells from that timepoint, maximizing completeness; but homogeneity would be extremely poor, as that cluster would contain a mixture of cells from *every* timepoint.\n",
    "\n",
    "Both homogeneity and completeness take values ranging from zero to one, with one indicating the best possible performance on the measure. To evaluate homogeneity and completeness, we formulate these concepts in terms of *entropies*. Entropy represents the amount of uncertainty exhibited by a given random variable. Suppose you flip a coin that comes up heads 99% of the time. This coin has low entropy, as you have minimal uncertainty about what the result will be on each flip. Conversely, if you flip a perfectly fair coin, you have no idea whether it will come up heads or tails, and so this coin has high entropy. To work with V-measure, we need two notations for entropy:\n",
    "\n",
    "* $H(X)$ is the entropy (uncertainty) associated with the random variable $X$. In the example of our completely fair coin, $H(X)$ is a value indicating the uncertainty as the outcome of each coin toss.\n",
    "* $H(X|Y)$ is the conditional entropy of $X$, assuming you already know the value of $Y$. Returning to our coin example, imagine $Y$ is a binary variable telling you whether you chose the fair or unfair coin. Then $H(X|Y)$ is the average uncertainty in the results of my coin tosses, assuming I know what the probability is that I picked one coin or the other.\n",
    "\n",
    "Given $N$ points in your dataset, let $K=[k_1,k_2,...,k_i,...,k_N]$, such that the $i$th element indicates the identity of the cluster to which point $i$ belongs. Likewise, let $C=[c_1,c_2,...,c_i,...,c_N]$ indicate the ground-truth class of point $c_i$. Using these two random variables, we can define homogeneity and completeness.\n",
    "\n",
    "We will define the homogeneity $h$ thusly:\n",
    "\n",
    "$h=1-\\frac{H(C|K)}{H(C)}$\n",
    "\n",
    "Let's first think about the quantity $\\frac{H(C|K)}{H(C)}$. The value $H(C)$ is a measure of uncertainty in the class distribution&mdash;the more classes you have, and more equal they are in the number of members belonging to each class, the higher the uncertainty as to which class any given point comes from. Comparing this to $H(C|K)$, then, tells you how much your uncertainty about class membership decreases when I tell you what clusters each point belongs to. For example, $H(C|K)=0$ if I ask you \"What class do the points in the third cluster belong to?\", and you can answer with no uncertainty because all the points in that cluster come from only a single class. In this scenario, $h=1-\\frac{H(C|K)}{H(C)}=1-0=1$, meaning you have perfect homogeneity. But note that $h=1$, meaning that there is only one class for the points in a given a cluster, can occur in both of the scenarios we previously discussed&mdash;you get perfect homogeneity if your clustering perfectly matches your class structure, or if you simply place each point in its own class. Conversely, $h=0$ when $H(C|K)=H(C)$, meaning that knowing what points are in a cluster gives you no information whatsoever about the classes from which those points originate, as there is no concordance between the clustering and underlying class structure.\n",
    "\n",
    "Now, let's think about the completeness $c$, defined thusly:\n",
    "\n",
    "$c=1-\\frac{H(K|C)}{H(K)}$\n",
    "\n",
    "Similar araguments apply as for homogeneity. $H(K)$ is the uncertainty in the class distribution, with datasets possessing more classes and more equitable distribution of points between classes having higher uncertainties. Comparing this to $H(K|C)$, then, tells you how much uncertainty about what cluster points belong to decreases when you know what class those points come from. If I ask \"What cluster are the cells from the $T=0$ timepoint in?\" and you can answer with no uncertainty because the cells are all in the same cluster, then $H(K|C)=0$, and so $c=1$.. But again, this occurs either under a clustering that perfectly echoes the class structure, or in the degenerate case when all points are assigned to a single cluster regardless of their original class. But if knowing the classes of some of your datapoints tells you nothing about what clusters they were assigned to, then there's no concordance between clusters and classes, then $H(K|C)=H(K)$, and so $c=0$.\n",
    "\n",
    "Finally, to calculate the V-measure score $v$, we take the harmonic mean of the completeness $c$ and homogeneity $h$:\n",
    "\n",
    "$v=\\frac{2}{\\frac{1}{h}+\\frac{1}{c}}=\\frac{2hc}{h+c}$\n",
    "\n",
    "V-measure thus represents the average of the completeness and homogeneity, reflecting both scores in a single value. We prefer the harmonic mean to the arithmetic mean because the harmonic mean punishes more harshly poor values for either metric. Suppose we encountered our degenerate case where all points are assigned to a single class, such that $c=1$ but $h=0$. Then, the arithmetic mean is $0.5$; the geometric mean, however, is zero. (Well, strictly speaking, it is undefined, but V-measure establishes $v=0$ when $h=0$ or $c=0$ as a special case.)\n",
    "\n",
    "More rigorously, we use the harmonic mean because we can instead define $h=\\frac{MI(K,C)}{H(C)}$ and $c=\\frac{MI(K,C)}{H(K)}$, where $MI(K,C)$ is the mutual information shared between $K$ and $C$. As both $h$ and $c$ share their numerators in this case, the harmonic mean is the most sound method of taking their average. This is, however, beyond the scope of this workshop."
   ]
  },
  {
   "cell_type": "markdown",
   "metadata": {},
   "source": [
    "## Evaluating clustering success: Intrinsic metric via silhouette score\n",
    "\n",
    "Evaluating clustering quality via an extrinsic metric such as V-measure requires you have data accompanied by a ground-truth listing of the proper classes to which each point belongs. In the absence of such information, you must instead rely on intrinsic measures that determine quality without reference to external information.\n",
    "\n",
    "Silhouette is one intrinsic measure by which you can evaluate clustering. Recall that we established the distance between cells using Euclidean distance. For each datum $i$ you have clustered, let $a(i)$ be the average dissimilarity between $i$ and every other member of its cluster. In our case, our dissimilarity metric is the Euclidean distance between cells. Now let $b(i)$ be the average dissimilarity between $i$ and the points in the closest clustering neighbouring the one to which $i$ belongs. Given these values, we can define the silhouette $s(i)$:\n",
    "\n",
    "$s(i) = \\frac{b(i) - a(i)}{\\max\\{a(i),b(i)\\}}$\n",
    "\n",
    "Equivalently, we can write the following:\n",
    "\n",
    "$s(i) = \\begin{cases}\n",
    "  1-a(i)/b(i), & \\mbox{if } a(i) < b(i) \\\\\n",
    "  0,  & \\mbox{if } a(i) = b(i) \\\\\n",
    "  b(i)/a(i)-1, & \\mbox{if } a(i) > b(i) \\\\\n",
    "\\end{cases}$\n",
    "\n",
    "From this, we can see $-1 \\le s(i) \\le 1$. Consequently, we can conclude two things about $i$:\n",
    "\n",
    "* If $s(i)$ is close to $1$, then $a(i) \\ll b(i)$. This means $i$ is clustered well, as it's closely related to other members of its cluster, but is distant from the next-best-fitting cluster.\n",
    "* If $s(i)$ is close to $-1$, then $a(i) \\gg b(i)$, implying $i$ is clustered poorly&mdash;$i$ would fit better in its neighboring cluster than in the one in which it is present.\n",
    "\n",
    "Of course, we have thus far defined the silhouette only for a single point $i$. To gain an understanding of how well-clustered the dataset is as a whole, we can calculate the mean silhouette score for every datum. Alternatively, to understand the quality of each cluster, we can calculate the mean silhouette score for each cluster individually."
   ]
  },
  {
   "cell_type": "markdown",
   "metadata": {},
   "source": [
    "## Evaluating clustering success for our simulated data\n",
    "\n",
    "Let's first define a `print_metrics` helper function to calculate and print our various measures of cluster quality."
   ]
  },
  {
   "cell_type": "code",
   "execution_count": 4,
   "metadata": {
    "collapsed": false
   },
   "outputs": [],
   "source": [
    "import sklearn.metrics\n",
    "\n",
    "def print_metrics(data, classes, clusters):\n",
    "  homogeneity, completeness, v_measure = sklearn.metrics.homogeneity_completeness_v_measure(classes, clusters)\n",
    "  print('Homogeneity, completeness, v_measure:', (homogeneity, completeness, v_measure))\n",
    "  print('Mean silhouette score:', sklearn.metrics.silhouette_score(data, clusters))"
   ]
  },
  {
   "cell_type": "markdown",
   "metadata": {},
   "source": [
    "Now let's evaluate our k-means results."
   ]
  },
  {
   "cell_type": "code",
   "execution_count": 5,
   "metadata": {
    "collapsed": false,
    "scrolled": true
   },
   "outputs": [
    {
     "name": "stdout",
     "output_type": "stream",
     "text": [
      "Homogeneity, completeness, v_measure: (0.75895660773022333, 0.76025535361635044, 0.75960542553650556)\n",
      "Mean silhouette score: 0.552423602656\n"
     ]
    }
   ],
   "source": [
    "print_metrics(sim_points, sim_labels, sim_preds_kmeans)"
   ]
  },
  {
   "cell_type": "markdown",
   "metadata": {},
   "source": [
    "We'll do the same for our GMM results."
   ]
  },
  {
   "cell_type": "code",
   "execution_count": 6,
   "metadata": {
    "collapsed": false
   },
   "outputs": [
    {
     "name": "stdout",
     "output_type": "stream",
     "text": [
      "Homogeneity, completeness, v_measure: (0.69677160493746149, 0.69730075095729649, 0.69703607752378571)\n",
      "Mean silhouette score: 0.542725996296\n"
     ]
    }
   ],
   "source": [
    "print_metrics(sim_points, sim_labels, sim_preds_gmm)"
   ]
  },
  {
   "cell_type": "markdown",
   "metadata": {},
   "source": [
    "Both k-means and the GMM do reasonably well by these metrics. In both models, homogeneity and completeness are nearly the same, meaning neither is favoured by k-means or the GMM.\n",
    "\n",
    "In comparing the k-means results to the GMM ones, we see that k-means does slightly better on all four metrics. This may be because of the simplicity of the model that generated our data. K-means implicitly assumes that data were generated from isotropic (spherical) Gaussians, meaning their covariance matrices are simply the identity matrix, potentially multiplied by a scalar. The Gaussian mixture model, conversely, is a more complex model that learns all the parameters of the underlying Gaussians, including the covariance matrices. Recall that the covariance matrices used to generate our data were simply the identity matrix&mdash;the underlying Gaussians differed only in their means. As two of our clusters are overlapping in the data we generate, the GMM may try to account for this with more complicated covariance matrices; the simplicity of k-means, by contrast, better matches the manner in which we generated the data, potentially leading to a more accurate model."
   ]
  },
  {
   "cell_type": "markdown",
   "metadata": {},
   "source": [
    "## Exercise: Generate more complex simulated data and evaluate performance\n",
    "\n",
    "Now it's your turn. Adjust how we generate the simulated data so that the underlying Gaussians use different, full-rank covariance matrices, meaning that all values on the diagonal are different (making traces of the Gaussian elliptical rather than strictly circular), and so off-diagonal values are non-zero and different from one another (rotating the Gaussian so it is no longer axis-aligned). See if this leads to the GMM exhibiting better performance than k-means."
   ]
  },
  {
   "cell_type": "code",
   "execution_count": 7,
   "metadata": {
    "collapsed": true
   },
   "outputs": [],
   "source": [
    "# Your brilliant, world-changing, paradigm-defining code goes here."
   ]
  },
  {
   "cell_type": "markdown",
   "metadata": {},
   "source": [
    "## Choosing the best number of clusters"
   ]
  },
  {
   "cell_type": "markdown",
   "metadata": {},
   "source": [
    "When clustering, choosing the best number of clusters is difficult. Often there is no correct answer&mdash;the \"best\" number of clusters will depend on the purpose to which you will put the results. We can, however, examine intrinsic properties of the results to inform our decision.\n",
    "\n",
    "First, we will define a function for calculating the sum of squared errors. This value is simply the sum of each point's squared Euclidean distance from its cluster centre. By squaring the distance, we punish points lying far from their centres more harshly."
   ]
  },
  {
   "cell_type": "code",
   "execution_count": 8,
   "metadata": {
    "collapsed": true
   },
   "outputs": [],
   "source": [
    "def calc_sum_sqerror(classifier, points, preds):\n",
    "  sum_sqerror = 0\n",
    "  for pred, point in zip(preds, points):\n",
    "    cluster_centre = classifier.cluster_centers_[pred]\n",
    "    dist = np.sum((point - cluster_centre)**2)\n",
    "    sum_sqerror += dist\n",
    "  return sum_sqerror"
   ]
  },
  {
   "cell_type": "markdown",
   "metadata": {},
   "source": [
    "Now, we can try running k-means with the number of clusters $K=[1,2,...,10]$, then evaluate various metrics to see how each $K$ performs. First we will run k-means and record several metrics for each $K$."
   ]
  },
  {
   "cell_type": "code",
   "execution_count": 9,
   "metadata": {
    "collapsed": true
   },
   "outputs": [],
   "source": [
    "from cluster import plot_line_chart\n",
    "\n",
    "# cluster_counts must be JSON-serializable for Plotly, so convert to list.\n",
    "cluster_counts = list(range(1, 11))\n",
    "sqerrors = []\n",
    "silhouettes = []\n",
    "vmeasures = []\n",
    "\n",
    "for K in cluster_counts:\n",
    "  kmeans = sklearn.cluster.KMeans(n_clusters=K)\n",
    "  preds = kmeans.fit_predict(sim_points)\n",
    "  sqerrors.append(calc_sum_sqerror(kmeans, sim_points, preds))\n",
    "  vmeasures.append(sklearn.metrics.v_measure_score(sim_labels, preds))\n",
    "  if K > 1:\n",
    "    # Need at least two clusters to calculate silhouette.\n",
    "    silhouettes.append(sklearn.metrics.silhouette_score(sim_points, preds))"
   ]
  },
  {
   "cell_type": "markdown",
   "metadata": {},
   "source": [
    "Next, we will plot the sum of squared errors as a function of $K$."
   ]
  },
  {
   "cell_type": "code",
   "execution_count": 10,
   "metadata": {
    "collapsed": false,
    "scrolled": true
   },
   "outputs": [
    {
     "data": {
      "text/html": [
       "<div id=\"49f112ea-f3e5-4854-9060-b90201696dbb\" style=\"height: 525; width: 100%;\" class=\"plotly-graph-div\"></div><script type=\"text/javascript\">require([\"plotly\"], function(Plotly) { window.PLOTLYENV=window.PLOTLYENV || {};window.PLOTLYENV.BASE_URL=\"https://plot.ly\";Plotly.newPlot(\"49f112ea-f3e5-4854-9060-b90201696dbb\", [{\"type\": \"scatter\", \"x\": [1, 2, 3, 4, 5, 6, 7, 8, 9, 10], \"y\": [1817.4544481012729, 301.0342193511743, 183.47308483678262, 150.81561865486077, 123.69304947868672, 103.39145494324427, 81.97743094146969, 74.15451418629809, 66.89542482497558, 61.12002589901093], \"mode\": \"lines+markers\"}], {\"yaxis\": {\"title\": \"Squared error\"}, \"hovermode\": \"closest\", \"title\": \"Squared error as function of number of clusters\", \"xaxis\": {\"title\": \"Number of clusters\"}}, {\"linkText\": \"Export to plot.ly\", \"showLink\": true})});</script>"
      ],
      "text/plain": [
       "<IPython.core.display.HTML object>"
      ]
     },
     "metadata": {},
     "output_type": "display_data"
    }
   ],
   "source": [
    "plot_line_chart(\n",
    "  cluster_counts,\n",
    "  sqerrors,\n",
    "  'Squared error as function of number of clusters',\n",
    "  'Number of clusters',\n",
    "  'Squared error'\n",
    ")"
   ]
  },
  {
   "cell_type": "markdown",
   "metadata": {},
   "source": [
    "As expected, the sum of squared errors decreases monotonically&mdash;adding an additional cluster will *always* decrease the total error. Our goal is to find the \"elbow\" on the curve corresponding to the \"best\" value of $K$. For this $K$ value, we should see susbstantially lower error relative to $K-1$, but at $K+1$, we should observe that error decreases far less dramatically relative to $K$. On this curve, though we know the \"correct\" number of clusters is three, the clearest elbow occurs at $K=2$. This is likely because two of the clusters partially overlap, meaning that this metric prefers only two distinct clusters. This demonstrates how difficult it can be to determine the \"correct\" number of clusters, given that on most datasets we don't know what the \"correct\" answer is.\n",
    "\n",
    "Next, we'll see how mean silhouette scores change with the number of clusters. Note that silhouette scores are only defined for $K>1$, so we must exclude $K=1$ when plotting these values."
   ]
  },
  {
   "cell_type": "code",
   "execution_count": 11,
   "metadata": {
    "collapsed": false
   },
   "outputs": [
    {
     "data": {
      "text/html": [
       "<div id=\"5fa50223-fb01-4755-aea7-162cf5b19b7d\" style=\"height: 525; width: 100%;\" class=\"plotly-graph-div\"></div><script type=\"text/javascript\">require([\"plotly\"], function(Plotly) { window.PLOTLYENV=window.PLOTLYENV || {};window.PLOTLYENV.BASE_URL=\"https://plot.ly\";Plotly.newPlot(\"5fa50223-fb01-4755-aea7-162cf5b19b7d\", [{\"type\": \"scatter\", \"x\": [2, 3, 4, 5, 6, 7, 8, 9, 10], \"y\": [0.7376364106532056, 0.5524236026558312, 0.4188450129702456, 0.3864560793561992, 0.3803922968981733, 0.3882659600385659, 0.37080897371220556, 0.37828593399797905, 0.34175349279792644], \"mode\": \"lines+markers\"}], {\"yaxis\": {\"title\": \"Silhouette score\"}, \"hovermode\": \"closest\", \"title\": \"Mean silhouette score as function of number of clusters\", \"xaxis\": {\"title\": \"Number of clusters\"}}, {\"linkText\": \"Export to plot.ly\", \"showLink\": true})});</script>"
      ],
      "text/plain": [
       "<IPython.core.display.HTML object>"
      ]
     },
     "metadata": {},
     "output_type": "display_data"
    }
   ],
   "source": [
    "plot_line_chart(\n",
    "  cluster_counts[1:],\n",
    "  silhouettes,\n",
    "  'Mean silhouette score as function of number of clusters',\n",
    "  'Number of clusters',\n",
    "  'Silhouette score'\n",
    ")"
   ]
  },
  {
   "cell_type": "markdown",
   "metadata": {},
   "source": [
    "Unlike sum-of-squared-errors, silhouette scores do not decrease monotonically. Here, we again prefer the \"wrong\" $K=2$, likely because of the overlapping clusters.\n",
    "\n",
    "Finally, we will evaluate our simulated results using V-measure. Both sum-of-squared errors and silhouette scores are intrinsic measures, meaning we can use them even without a ground-truth listing of the correct class for each point. Using V-measure, however, is possible here only because we have such labels."
   ]
  },
  {
   "cell_type": "code",
   "execution_count": 12,
   "metadata": {
    "collapsed": false,
    "scrolled": true
   },
   "outputs": [
    {
     "data": {
      "text/html": [
       "<div id=\"8885c315-861e-4cf8-8fd5-f3e7c3ab2155\" style=\"height: 525; width: 100%;\" class=\"plotly-graph-div\"></div><script type=\"text/javascript\">require([\"plotly\"], function(Plotly) { window.PLOTLYENV=window.PLOTLYENV || {};window.PLOTLYENV.BASE_URL=\"https://plot.ly\";Plotly.newPlot(\"8885c315-861e-4cf8-8fd5-f3e7c3ab2155\", [{\"type\": \"scatter\", \"x\": [1, 2, 3, 4, 5, 6, 7, 8, 9, 10], \"y\": [-9.095116925863002e-16, 0.7336804366512103, 0.7596054255365057, 0.6741058758315824, 0.5754910231577901, 0.5638774188913578, 0.5418075175854778, 0.5456031850811178, 0.5131057720852235, 0.5066693394254925], \"mode\": \"lines+markers\"}], {\"yaxis\": {\"title\": \"V-measure score\"}, \"hovermode\": \"closest\", \"title\": \"V-measure score as function of number of clusters\", \"xaxis\": {\"title\": \"Number of clusters\"}}, {\"linkText\": \"Export to plot.ly\", \"showLink\": true})});</script>"
      ],
      "text/plain": [
       "<IPython.core.display.HTML object>"
      ]
     },
     "metadata": {},
     "output_type": "display_data"
    }
   ],
   "source": [
    "plot_line_chart(\n",
    "  cluster_counts,\n",
    "  vmeasures,\n",
    "  'V-measure score as function of number of clusters',\n",
    "  'Number of clusters',\n",
    "  'V-measure score'\n",
    ")"
   ]
  },
  {
   "cell_type": "markdown",
   "metadata": {},
   "source": [
    "Interestingly, we see here a slight preference for $K=3$ rather than $K=2$, with the respective V-measure scores being 0.76 and 0.73. Again, however, we can recover the \"correct\" $K$ only because we have access to ground-truth labels that show the one apparent big cluster should in fact be separated into two separate clusters. Without these labels, our model prefers only two clusters, as demonstrated by the two intrinsic measures."
   ]
  },
  {
   "cell_type": "markdown",
   "metadata": {},
   "source": [
    "## Exercise: Make distinct clusters and see if you recover the \"correct\" value of $K$\n",
    "\n",
    "As two of our clusters overlap, our various intrinsic means of choosing $K$ have preferred $K=2$ clusters, rather than the correct value of $K=3$. Try changing the means of the Gaussians generating the clusters to make the clusters distinct, then see if the various measures recover the \"correct\" $K$.\n",
    "\n",
    "Additionally, you can evaluate the Gaussian mixture model as well as k-means for different values of $K$ on the simulated data. Use sum-of-squared-error, silhouette scores, and V-measure to choose the best value, and to see if it matches the value used to generate the data."
   ]
  },
  {
   "cell_type": "code",
   "execution_count": 13,
   "metadata": {
    "collapsed": true
   },
   "outputs": [],
   "source": [
    "# Your most excellent code goes here. I mean, seriously, don't disappoint us.\n",
    "# I'm expecting to see the Python equivalent of Hemingway here."
   ]
  },
  {
   "cell_type": "markdown",
   "metadata": {},
   "source": [
    "## Preparing to cluster our gene expression data\n",
    "\n",
    "We have a 271x575 matrix containing gene expression levels. Each row corresponds to a cell, while each column corresponds to the expression of a gene in $\\log\\text{FPKM}$ units. We will perform dimensionality reduction via PCA on our data before clustering to avoid the *curse of dimensionality*, which we will discuss next."
   ]
  },
  {
   "cell_type": "code",
   "execution_count": 14,
   "metadata": {
    "collapsed": true
   },
   "outputs": [],
   "source": [
    "from cluster import get_timepoints, plot_expression\n",
    "import sklearn.decomposition\n",
    "\n",
    "def load_exprmat(exprmat_fn):\n",
    "  rows = []\n",
    "  rownames = []\n",
    "\n",
    "  with open(exprmat_fn) as exprmat:\n",
    "    colnames = next(exprmat).strip().split(',')\n",
    "    for row in exprmat:\n",
    "      fields = row.split(',')\n",
    "      rownames.append(fields[0])\n",
    "      rows.append([float(f) for f in fields[1:]])\n",
    "\n",
    "  data = np.array(rows)\n",
    "  return (data, colnames, rownames)\n",
    "\n",
    "def reduce_dimensionality(exprmat, n_components):\n",
    "  pca = sklearn.decomposition.PCA(n_components=n_components)\n",
    "  projected = pca.fit(exprmat).transform(exprmat)\n",
    "  print('Explained variance ratio: %s' % pca.explained_variance_ratio_)\n",
    "  return projected"
   ]
  },
  {
   "cell_type": "code",
   "execution_count": 15,
   "metadata": {
    "collapsed": false
   },
   "outputs": [
    {
     "name": "stdout",
     "output_type": "stream",
     "text": [
      "Matrix size: (271, 575)\n",
      "Explained variance ratio: [ 0.22354609  0.09390967]\n"
     ]
    }
   ],
   "source": [
    "exprmat, genes, samples = load_exprmat('../data/expression_matrix.csv')\n",
    "print('Matrix size:', exprmat.shape)\n",
    "timepoints = get_timepoints(samples)\n",
    "projected = reduce_dimensionality(exprmat, 2)"
   ]
  },
  {
   "cell_type": "markdown",
   "metadata": {},
   "source": [
    "There are three important variables you will work with from the above.\n",
    "\n",
    "  * `projected` is the 271x575 gene expression matrix `exprmat` projected via PCA so it becomes 271x2. We project it from 575 dimensions corresponding to different genes, to only two dimensions corresponding to two principal components composed of the genes responsible for the most variance in the underlying data. See the next section for why we must do PCA on the original data.\n",
    "  * `samples` is a 271-element list giving the name of each cell. Each name contains the cell's timepoint, which we extract in `timepoints` to give us ground-truth classes.\n",
    "  * `timepoints` is a 271-element vector listing the ground-truth class for each cell. Each timepoint is an integer between 0 and 3, corresponding to 0 hours, 24 hours, 48 hours, and 72 hours, respectively.\n",
    "  \n",
    "Additionally, observe that our first principal component retains 22% of the original data's variance, while the second principal component adds an additional 9%."
   ]
  },
  {
   "cell_type": "markdown",
   "metadata": {},
   "source": [
    "## Avoiding the curse of dimensionality\n",
    "\n",
    "We will first cluster the cells using the k-means algorithm. K-means, alongside many other clustering algorithms, requires that you have a distance metric such that you can determine the distance between any two cells. Given our dataset of expression levels for each of 575 genes amongst all cells, we can think of each cell as a point in 575-dimensional space. We can thus calculate the distance $d(c_1, c_2)$ between two cells $c_1$ and $c_2$ using Euclidean distance, just as we would for points lying on the Cartesian plane in two dimensions:\n",
    "\n",
    "$d(c_{1},c_{2})=\\sqrt{\\sum_{i=1}^{575}\\left(c_{1}^{(i)}-c_{2}^{(i)}\\right)^{2}}$\n",
    "\n",
    "But working in 575-dimensional space requires thinking about difficulties we don't encounter in the three dimensions of everyday life. Specifically, when working in so many dimensions, we must confront the *curse of dimensionality*. A [wonderfully intuitive explanation of the curse of dimensionality comes from Kevin Lacker](https://www.quora.com/What-is-the-curse-of-dimensionality/answer/Kevin-Lacker):\n",
    "\n",
    "> Let's say you have a straight line 100 yards long and you dropped a penny somewhere on it. It wouldn't be too hard to find. You walk along the line and it takes two minutes.\n",
    ">\n",
    "> Now let's say you have a square 100 yards on each side and you dropped a penny somewhere on it. It would be pretty hard, like searching across two football fields stuck together. It could take days.\n",
    ">\n",
    "> Now a cube 100 yards across. That's like searching a 30-story building the size of a football stadium. Ugh.\n",
    ">\n",
    ">The difficulty of searching through the space gets a *lot* harder as you have more dimensions. You might not realize this intuitively when it's just stated in mathematical formulas, since they all have the same \"width\". That's the curse of dimensionality. It gets to have a name because it is unintuitive, useful, and yet simple.\n",
    "\n",
    "So, when you're working in 575-dimensional space, you have an incredible volume through which you must search, such that each of your 271 cells is likely to be extremely distant from every other cell. Clustering a cell based on which other cells are \"near\" and which are \"distant\" becomes meaningless in this scenario.\n",
    "\n",
    "What is the solution? Simple! Apply dimensionality reduction before clustering to move your points into a much lower-dimensional space, restoring intuitive notions of \"near\" and \"far\". In this case, we will use PCA on our gene expression data before clustering to do exactly that. We will project to only two dimensions to allow us to easily plot the data. You could just as easily, however, use PCA to project the data into ten dimensions, for example. How many dimensions you choose will depend on how much of the original data's variance you want to retain."
   ]
  },
  {
   "cell_type": "markdown",
   "metadata": {},
   "source": [
    "## Clustering our gene expression data using k-means\n",
    "\n",
    "Now we will run k-means on the dimensionality-reduced data. We hope to see our clusters correspond to the timepoint assignment of each cell, such that cells in the same cluster come from the same timepoints. We will show you a basic example, then let you play with the data."
   ]
  },
  {
   "cell_type": "code",
   "execution_count": 16,
   "metadata": {
    "collapsed": false
   },
   "outputs": [],
   "source": [
    "# Remember:\n",
    "#   * There are four timepoints in the original dataset, so we'll start by trying to fit four clusters.\n",
    "#   * \"projected\" is the 575x2 matrix of gene expressions, with reduced dimensionailty via PCA.\n",
    "#   * \"samples\" is a 271-element list listing the sample name for each cell.\n",
    "#   * \"timepoints\" is a 271-element vector giving the timepoint for each cell.\n",
    "\n",
    "kmeans_preds = sklearn.cluster.KMeans(n_clusters=4).fit_predict(projected)"
   ]
  },
  {
   "cell_type": "markdown",
   "metadata": {},
   "source": [
    "Nothing should have been output by the above code. This is good&mdash;it means everything worked!\n",
    "\n",
    "Now prepare to have your socks blown off. We created a snazzy plotting function for you that lets you compare your results to the ground-truth labels."
   ]
  },
  {
   "cell_type": "code",
   "execution_count": 17,
   "metadata": {
    "collapsed": false
   },
   "outputs": [
    {
     "data": {
      "text/html": [
       "<div id=\"d7e41df3-c2e0-45e6-931b-13a8d5ace6e8\" style=\"height: 525; width: 100%;\" class=\"plotly-graph-div\"></div><script type=\"text/javascript\">require([\"plotly\"], function(Plotly) { window.PLOTLYENV=window.PLOTLYENV || {};window.PLOTLYENV.BASE_URL=\"https://plot.ly\";Plotly.newPlot(\"d7e41df3-c2e0-45e6-931b-13a8d5ace6e8\", [{\"type\": \"scatter\", \"text\": [\"T0_CT_A01\", \"T0_CT_A03\", \"T0_CT_A05\", \"T0_CT_A06\", \"T0_CT_A07\", \"T0_CT_A08\", \"T0_CT_A10\", \"T0_CT_A11\", \"T0_CT_B01\", \"T0_CT_B03\", \"T0_CT_B05\", \"T0_CT_B07\", \"T0_CT_B08\", \"T0_CT_B09\", \"T0_CT_C02\", \"T0_CT_C03\", \"T0_CT_C05\", \"T0_CT_C06\", \"T0_CT_C07\", \"T0_CT_C08\", \"T0_CT_C09\", \"T0_CT_C11\", \"T0_CT_C12\", \"T0_CT_D01\", \"T0_CT_D02\", \"T0_CT_D03\", \"T0_CT_D05\", \"T0_CT_D06\", \"T0_CT_D07\", \"T0_CT_D08\", \"T0_CT_D09\", \"T0_CT_D11\", \"T0_CT_D12\", \"T0_CT_E01\", \"T0_CT_E03\", \"T0_CT_E04\", \"T0_CT_E05\", \"T0_CT_E06\", \"T0_CT_E07\", \"T0_CT_E08\", \"T0_CT_E09\", \"T0_CT_E10\", \"T0_CT_E11\", \"T0_CT_E12\", \"T0_CT_F01\", \"T0_CT_F02\", \"T0_CT_F03\", \"T0_CT_F04\", \"T0_CT_F05\", \"T0_CT_F06\", \"T0_CT_F07\", \"T0_CT_F09\", \"T0_CT_F11\", \"T0_CT_F12\", \"T0_CT_G01\", \"T0_CT_G02\", \"T0_CT_G03\", \"T0_CT_G04\", \"T0_CT_G07\", \"T0_CT_G08\", \"T0_CT_G09\", \"T0_CT_G11\", \"T0_CT_H01\", \"T0_CT_H02\", \"T0_CT_H04\", \"T0_CT_H05\", \"T0_CT_H08\", \"T0_CT_H09\", \"T0_CT_H12\", \"T24_CT_A01\", \"T24_CT_A03\", \"T24_CT_A04\", \"T24_CT_A05\", \"T24_CT_A07\", \"T24_CT_A08\", \"T24_CT_A09\", \"T24_CT_A10\", \"T24_CT_B01\", \"T24_CT_B02\", \"T24_CT_B03\", \"T24_CT_B05\", \"T24_CT_B06\", \"T24_CT_B07\", \"T24_CT_B08\", \"T24_CT_B09\", \"T24_CT_B11\", \"T24_CT_C01\", \"T24_CT_C02\", \"T24_CT_C03\", \"T24_CT_C05\", \"T24_CT_C07\", \"T24_CT_C08\", \"T24_CT_C09\", \"T24_CT_C10\", \"T24_CT_C11\", \"T24_CT_C12\", \"T24_CT_D01\", \"T24_CT_D02\", \"T24_CT_D03\", \"T24_CT_D04\", \"T24_CT_D05\", \"T24_CT_D06\", \"T24_CT_D07\", \"T24_CT_D08\", \"T24_CT_D09\", \"T24_CT_D10\", \"T24_CT_D11\", \"T24_CT_E01\", \"T24_CT_E02\", \"T24_CT_E04\", \"T24_CT_E05\", \"T24_CT_E07\", \"T24_CT_E09\", \"T24_CT_E11\", \"T24_CT_E12\", \"T24_CT_F01\", \"T24_CT_F02\", \"T24_CT_F03\", \"T24_CT_F04\", \"T24_CT_F05\", \"T24_CT_F07\", \"T24_CT_F08\", \"T24_CT_F09\", \"T24_CT_F10\", \"T24_CT_F11\", \"T24_CT_F12\", \"T24_CT_G01\", \"T24_CT_G02\", \"T24_CT_G03\", \"T24_CT_G04\", \"T24_CT_G05\", \"T24_CT_G06\", \"T24_CT_G08\", \"T24_CT_G10\", \"T24_CT_G11\", \"T24_CT_G12\", \"T24_CT_H01\", \"T24_CT_H02\", \"T24_CT_H03\", \"T24_CT_H05\", \"T24_CT_H07\", \"T24_CT_H09\", \"T24_CT_H12\", \"T48_CT_A01\", \"T48_CT_A02\", \"T48_CT_A03\", \"T48_CT_A04\", \"T48_CT_A05\", \"T48_CT_A06\", \"T48_CT_A07\", \"T48_CT_A08\", \"T48_CT_A09\", \"T48_CT_A10\", \"T48_CT_A11\", \"T48_CT_A12\", \"T48_CT_B01\", \"T48_CT_B02\", \"T48_CT_B03\", \"T48_CT_B04\", \"T48_CT_B06\", \"T48_CT_B08\", \"T48_CT_B10\", \"T48_CT_B11\", \"T48_CT_B12\", \"T48_CT_C01\", \"T48_CT_C02\", \"T48_CT_C03\", \"T48_CT_C04\", \"T48_CT_C05\", \"T48_CT_C06\", \"T48_CT_C07\", \"T48_CT_C09\", \"T48_CT_C10\", \"T48_CT_C11\", \"T48_CT_D01\", \"T48_CT_D02\", \"T48_CT_D03\", \"T48_CT_D04\", \"T48_CT_D06\", \"T48_CT_D07\", \"T48_CT_D08\", \"T48_CT_D09\", \"T48_CT_D10\", \"T48_CT_D11\", \"T48_CT_D12\", \"T48_CT_E01\", \"T48_CT_E02\", \"T48_CT_E03\", \"T48_CT_E04\", \"T48_CT_E05\", \"T48_CT_E06\", \"T48_CT_E07\", \"T48_CT_E08\", \"T48_CT_E10\", \"T48_CT_E11\", \"T48_CT_E12\", \"T48_CT_F01\", \"T48_CT_F02\", \"T48_CT_F03\", \"T48_CT_F05\", \"T48_CT_F07\", \"T48_CT_F09\", \"T48_CT_F10\", \"T48_CT_F11\", \"T48_CT_G01\", \"T48_CT_G02\", \"T48_CT_G03\", \"T48_CT_G07\", \"T48_CT_G08\", \"T48_CT_G09\", \"T48_CT_G10\", \"T48_CT_G11\", \"T48_CT_G12\", \"T48_CT_H01\", \"T48_CT_H02\", \"T48_CT_H04\", \"T48_CT_H05\", \"T48_CT_H06\", \"T48_CT_H07\", \"T48_CT_H08\", \"T48_CT_H11\", \"T48_CT_H12\", \"T72_CT_A01\", \"T72_CT_A05\", \"T72_CT_A08\", \"T72_CT_A09\", \"T72_CT_A11\", \"T72_CT_B01\", \"T72_CT_B02\", \"T72_CT_B03\", \"T72_CT_B04\", \"T72_CT_B05\", \"T72_CT_B06\", \"T72_CT_B08\", \"T72_CT_B09\", \"T72_CT_B11\", \"T72_CT_B12\", \"T72_CT_C04\", \"T72_CT_C06\", \"T72_CT_C07\", \"T72_CT_C09\", \"T72_CT_C11\", \"T72_CT_D01\", \"T72_CT_D03\", \"T72_CT_D04\", \"T72_CT_D05\", \"T72_CT_D07\", \"T72_CT_D10\", \"T72_CT_D11\", \"T72_CT_E04\", \"T72_CT_E05\", \"T72_CT_E07\", \"T72_CT_F01\", \"T72_CT_F05\", \"T72_CT_F07\", \"T72_CT_F10\", \"T72_CT_F11\", \"T72_CT_G03\", \"T72_CT_G04\", \"T72_CT_G06\", \"T72_CT_G08\", \"T72_CT_G10\", \"T72_CT_G11\", \"T72_CT_H01\", \"T72_CT_H03\", \"T72_CT_H05\", \"T72_CT_H08\", \"T72_CT_H09\", \"T72_CT_H10\", \"T72_CT_H11\", \"T72_CT_H12\"], \"x\": [-18.438645019561108, -34.596272559775386, -33.752031063793865, -16.092130836572082, -30.35312118277164, 10.032374581901434, -24.971318024760755, -7.441022298928871, -4.357139843465864, -31.972174483137803, -3.7128821061546944, -11.666992749046766, -33.76596451442802, -30.793988452253593, -34.48085456746525, -0.8085420622570545, -8.87815951644155, -0.07148148144061171, -14.793301934151552, -35.873621748952495, -10.200352467877778, -5.3420956818384315, -31.394855401379434, -18.392485159233825, -13.951187060233911, -32.77307753026311, -6.741476011439713, -30.78070564194096, -18.362736441154713, -30.716096891263856, -9.547813664510645, -6.555182234687481, -31.530600882479867, -25.501011553531, -17.100847127273116, -7.967961622412478, 3.8876480770138584, -24.09707929586749, -32.745329354883175, -38.149781830128234, -26.246227901078463, -10.877436279013384, -32.403042966411284, -20.719130412189216, -30.235676360733745, -32.34414170447138, -31.89269252514251, -31.31117404451156, -17.621660712089174, -29.552505589173624, -9.5547232447126, -4.623704695704249, -20.191078341838722, -27.81690596646788, -27.478078339260787, -3.7287749312661034, -19.753033982587365, -30.362960542380577, -32.50874895901204, -28.29365604119219, 2.283260633320028, -5.439387933581044, -0.6813535157263197, -10.169834106367526, -21.954049911284862, -6.238995087042923, -8.700899395992662, -7.197769420203644, -9.119948142287953, 0.6229829228702513, 4.591670023389842, -5.910273818051853, -24.181108786150414, 3.6795592332859823, 15.274568099923824, 11.497865513816988, 11.080276664523245, 5.7608411277882166, 12.532867365354953, 6.4547040589375735, 4.4228217600752355, 5.859955494849095, 16.16554770269689, 1.3030883988463788, 11.012096475483556, -23.4413648559789, 15.308588116231377, 4.476563098591612, 3.8037381047513135, -0.2619832592702982, 6.638919585029796, 1.0949997121683916, 0.5614699699721635, 9.65729166821377, 8.157071858175657, 6.229669457419765, 4.783600066556912, -9.860425919926884, 0.4533631523337109, 4.481431268502188, 10.012122288803596, 9.385380740982756, 5.462321523269109, 0.6985047156465168, 2.9355854215742214, 1.8642340444833199, 4.924095435969056, 14.721177523376591, 14.632305788427576, 6.068203621818302, 18.10609997254864, 9.00968302250907, 2.6468531908194537, 12.568307722893339, 5.016702758965607, 6.718472981669396, -2.5588514062994485, 10.480436947354573, 9.472181823697424, 12.11311821044091, 9.635157849255666, 12.275844927533935, -2.141776168699018, 3.8213727314335353, 11.365573574695324, -13.439353722554484, 0.6057740453539207, 19.195191059181813, 14.21612917878131, 3.9468730657039175, 4.548128587608632, 14.10130435979386, 2.806657614382581, 2.0795217031851463, 12.595485133380098, 1.060269598087923, -26.046924694644357, 10.110746522363305, 5.163249405630782, 6.945194098767364, 9.65485234058182, 12.906669541682485, 6.6704574184781755, 5.907712405279387, 6.799517671151031, 15.55602473757524, 6.675603967656829, 10.02373988947537, 14.18362234183099, -27.021878592867896, 9.295611249373948, 15.011777787778882, 5.455367097496056, 7.364282748253149, 12.770095030422254, 4.867521765508792, 6.900030781679019, 14.408557301611866, 20.36947898577715, 5.154947837624145, 15.943955429984408, 8.384562992102548, 6.67586390678906, 15.058102977381681, 6.448332354838023, 12.149174643361068, 7.410796364747434, 16.87648562272952, 10.36729280446256, 8.110707854554901, 13.275212065997627, -8.366142432721388, 17.559291321160057, 10.535614550234829, 9.008395708988362, 11.065757651147385, 10.665357675379772, 11.079303882587064, 4.839182094096039, 7.688676370210907, 12.564133921071198, 10.262038026886374, 13.281930821219435, -5.303424916242058, 18.868598454892584, 10.48948565339357, 14.111210015210608, 0.4461213642477809, 11.405421007617168, 9.621342924799409, 20.060809294935133, 15.259233364895469, 1.9833966828055603, 10.902812130849906, 14.808140591185271, -26.396041061433856, 5.159235240670401, 8.72840725553745, 10.354288600607983, 6.0676808121909565, 13.662595460740974, 5.433274994075139, 15.710734168991776, 20.55430589208359, 0.6214451582713609, 3.7810052676041677, 5.340962102171246, 5.147597788953381, 8.860485045706387, 11.544187318793293, -18.153728296227168, 6.844594254712716, 5.583263306840611, 7.175277810418122, 9.070929630980013, 9.053733974154241, 5.126738587381135, 7.0030001404538, 10.651840172225649, 6.779289499125447, 14.009232177214427, 4.633255716539595, 5.312683859728024, 2.2515733248830934, 11.971589062585783, 5.931688858992555, 6.235931028837673, 2.992167764444629, 15.114186544767001, 8.292307837018292, 20.217251158082732, 11.552945196599246, 18.869305535341155, -14.554242837650788, 16.475255027292725, 12.026937938611129, 7.307886929894831, 2.583600712801441, 11.13432313354413, -0.36882160203276726, 12.481126775529324, -23.984213023265863, 5.661480816721245, 11.68191314774085, 2.1596722871085765, 17.01075857823741, 12.185346334370324, 11.333120365170243, 17.296979863806516, 9.784889225338764, 3.7007024873437766, 9.407476568391168, 9.226048269765037, 2.3241764929837596, 14.301493004904259, 3.1026300067678734, -11.238308565974707, 13.820534038204364, 13.073051058944333, -9.932741916255559, 0.11322651218338747, 6.095639026164156, 13.313356881648414, 1.5082710140919537, 6.227495597251299, -25.75416178617479, -24.527355744344128, -25.682772481951165, 13.091986486314786, 15.533757951045505, 4.61197335189229], \"marker\": {\"color\": [0, 0, 0, 0, 0, 0, 0, 0, 0, 0, 0, 0, 0, 0, 0, 0, 0, 0, 0, 0, 0, 0, 0, 0, 0, 0, 0, 0, 0, 0, 0, 0, 0, 0, 0, 0, 0, 0, 0, 0, 0, 0, 0, 0, 0, 0, 0, 0, 0, 0, 0, 0, 0, 0, 0, 0, 0, 0, 0, 0, 0, 0, 0, 0, 0, 0, 0, 0, 0, 1, 1, 1, 1, 1, 1, 1, 1, 1, 1, 1, 1, 1, 1, 1, 1, 1, 1, 1, 1, 1, 1, 1, 1, 1, 1, 1, 1, 1, 1, 1, 1, 1, 1, 1, 1, 1, 1, 1, 1, 1, 1, 1, 1, 1, 1, 1, 1, 1, 1, 1, 1, 1, 1, 1, 1, 1, 1, 1, 1, 1, 1, 1, 1, 1, 1, 1, 1, 1, 1, 1, 1, 1, 1, 2, 2, 2, 2, 2, 2, 2, 2, 2, 2, 2, 2, 2, 2, 2, 2, 2, 2, 2, 2, 2, 2, 2, 2, 2, 2, 2, 2, 2, 2, 2, 2, 2, 2, 2, 2, 2, 2, 2, 2, 2, 2, 2, 2, 2, 2, 2, 2, 2, 2, 2, 2, 2, 2, 2, 2, 2, 2, 2, 2, 2, 2, 2, 2, 2, 2, 2, 2, 2, 2, 2, 2, 2, 2, 2, 2, 2, 2, 2, 3, 3, 3, 3, 3, 3, 3, 3, 3, 3, 3, 3, 3, 3, 3, 3, 3, 3, 3, 3, 3, 3, 3, 3, 3, 3, 3, 3, 3, 3, 3, 3, 3, 3, 3, 3, 3, 3, 3, 3, 3, 3, 3, 3, 3, 3, 3, 3, 3], \"colorscale\": \"RdYlBu\"}, \"mode\": \"markers\", \"yaxis\": \"y1\", \"xaxis\": \"x1\", \"y\": [-1.035741157918212, 8.252051163848902, 10.935589899071369, -3.6517554262981027, 4.705455687980194, 15.168352148765134, 4.778306909708652, -4.656437189291573, -6.0719882895777495, 1.9439196806334906, -4.125028434391182, -1.2747815186398785, 3.5517794237549416, 8.907249208593864, 4.278109493548003, 5.23846438051574, -6.469992828944174, -4.488009132197246, 0.32645737903980315, 7.677213311016003, -7.102640743307318, -10.225388296207315, 3.8354422712691685, -1.7566219700222367, 1.3077817808422827, 3.634129439962425, -7.3599205359076425, 1.7433551550494704, -0.030815403192313684, 3.7728241420762716, -10.175094155315875, -9.531925893722937, 8.301777631989513, 2.087565516843638, 4.899248083911605, -9.055892133537213, -5.606358263113168, 1.6270129561332234, 3.6504090788572787, 4.940552459177723, 1.7636706816630938, -7.831823012783984, 4.481546359311453, 2.3558967013397076, 7.3818599902883095, 7.062760726697462, 7.229494085725032, 9.499273178253153, -4.136928482924092, 2.7155356214167528, -1.4813237717399705, -10.847493688268512, -0.5620629310296853, 6.046412165375312, 3.4939371751015633, -4.494869616533695, 1.7952006987345046, 1.5627599897487745, 2.8623838277306257, 1.4358431912830647, 0.9711542620297078, -6.997771023106615, -4.979867927625008, -6.8787265612895565, 0.6275125149578011, -5.577470820092188, -1.5721949801852202, -8.753232341474634, -4.208930785737708, 3.6157295982308697, -10.014216157187187, -5.713057114222328, 16.988441726256262, -12.123615311283872, 13.681168203816243, 6.881883061388562, 2.9465675081415226, 7.007821415622023, 7.629774331248316, -9.34735220117587, -11.625408657935061, -9.315442763639364, 19.77177752896263, -7.786354792702618, 17.71796889288005, 15.277031697224933, 16.16638688969646, -10.708351352570899, 5.221288775080982, -9.68680500969482, -12.57391239895656, -9.857136435499697, -9.708980748179117, 12.079834709085283, -2.7882337518194995, -12.755974910759479, -14.080802377741607, -5.142208288172063, -8.652615840548586, 12.401312183293447, 5.454229296805824, 5.393223166671799, 6.642268867178204, -10.38793351927828, -9.080061377809576, -8.611497787456114, -11.527682125175021, 2.819227724318671, 9.20755782756535, -11.964256731218676, 17.895456602962284, -6.1425908479059625, 13.139977267051675, 5.072700527873723, -11.747320525008622, -11.470927263343667, -8.32553753477863, 2.1516830684306965, -1.6216710314904064, 3.4088465364923746, 1.0161948542536763, 11.942156302536455, -8.896738617027719, -3.191675258101371, -0.3508314609791956, -3.6040576329206657, -8.191635614231336, 18.29414851262347, 13.50460362511696, -6.657458325827648, -12.136524816960025, 8.973039875286926, 10.860326821815192, -10.70476699059002, 18.74085387022344, 8.16021514921101, 13.843631208101323, 6.36254665756525, -8.750649445966854, -3.318233771314909, 2.894152088252151, 9.69158839475018, 8.807744662021744, -9.263646297049817, -12.288224814824275, 21.449299752484922, -11.218647405524983, -5.901533448405649, 22.05377440259515, 3.0363134996796814, -11.506430835621137, 3.5497434124614315, -12.921095839789032, -10.830787719573827, 3.78654564136177, -12.43048317283027, -11.497497531461818, 20.084958456417453, 21.391428798863, -12.017156694702665, 12.56241552419953, -13.551259865898222, -9.234851196048822, -4.488015257631191, -11.160910499922895, 18.51642836572824, -13.10384858874906, 19.718817093795895, 0.02233538944300607, -7.82615132418468, -1.9037645361607718, -5.020991836892578, 10.407558516530962, -11.310324054778686, -9.48440425538395, -5.28908565875293, 11.43908937454285, -2.3384292073926605, -8.986158326389694, -11.536017538416527, 6.714271115752653, -12.781565062455494, -3.883112788321076, -5.874462421819349, 20.929734996053956, -4.167112763973027, -0.26908522105561145, -2.214157511684186, -2.839355875883685, -11.313771260371494, 23.962380655005454, 16.631219709314035, -10.563308333183878, 8.697132466838736, 9.859265142446878, 4.780999795647934, -12.437494297093668, -1.7829172444131642, 1.107473487550961, -8.735855589751445, 6.711135490931467, -10.518492867182278, -3.802886641220458, 16.005351896484314, 11.209139285114112, -10.93535955988589, -11.45897737599609, -12.073692099273078, -11.752695182089116, -5.1824820305975585, 29.40996279091002, -2.5760008357261994, -11.969162602604431, -9.256811595106049, -1.8899380469091056, 17.42112074497433, -10.861119624153462, -11.446998739983153, -5.345336644641211, -13.01168817093523, -1.6571812284046634, -12.938752984262404, -6.782317462829385, -2.055691525176536, 4.092934549846823, -8.21622319486485, -9.109578857771702, -9.681738396842729, 15.831779278280246, 0.5360000105456574, 21.246491531992756, -0.7727491364389553, 17.98827198570061, 0.801066207096336, 19.494952395347475, 5.430284676670941, -9.028204910203875, -9.97094826919143, 1.461559199309727, -6.815772445300456, 2.5974174206154084, 4.444454577172725, -7.374673834941954, 11.126326032083817, -7.828746245003967, 8.08440458548963, 9.009202487795928, -1.2043251316807397, 15.440747117715445, -0.6989137606989662, -9.547272494149825, 2.4369649899187653, -8.851240142457957, -9.549709698692293, 6.162229910937165, -9.055983041010537, -4.403632379463661, 21.12743992517094, 12.247108535798493, -0.9571760502647424, 2.5855866647635755, -10.098126263899035, 1.2198066332509343, -12.354209663305399, -9.726436083974933, 5.599168523639258, 5.586329163945844, 17.96614714178955, -0.5169369296152111, 1.6801584672823189, -11.412673090580686]}, {\"type\": \"scatter\", \"text\": [\"T0_CT_A01\", \"T0_CT_A03\", \"T0_CT_A05\", \"T0_CT_A06\", \"T0_CT_A07\", \"T0_CT_A08\", \"T0_CT_A10\", \"T0_CT_A11\", \"T0_CT_B01\", \"T0_CT_B03\", \"T0_CT_B05\", \"T0_CT_B07\", \"T0_CT_B08\", \"T0_CT_B09\", \"T0_CT_C02\", \"T0_CT_C03\", \"T0_CT_C05\", \"T0_CT_C06\", \"T0_CT_C07\", \"T0_CT_C08\", \"T0_CT_C09\", \"T0_CT_C11\", \"T0_CT_C12\", \"T0_CT_D01\", \"T0_CT_D02\", \"T0_CT_D03\", \"T0_CT_D05\", \"T0_CT_D06\", \"T0_CT_D07\", \"T0_CT_D08\", \"T0_CT_D09\", \"T0_CT_D11\", \"T0_CT_D12\", \"T0_CT_E01\", \"T0_CT_E03\", \"T0_CT_E04\", \"T0_CT_E05\", \"T0_CT_E06\", \"T0_CT_E07\", \"T0_CT_E08\", \"T0_CT_E09\", \"T0_CT_E10\", \"T0_CT_E11\", \"T0_CT_E12\", \"T0_CT_F01\", \"T0_CT_F02\", \"T0_CT_F03\", \"T0_CT_F04\", \"T0_CT_F05\", \"T0_CT_F06\", \"T0_CT_F07\", \"T0_CT_F09\", \"T0_CT_F11\", \"T0_CT_F12\", \"T0_CT_G01\", \"T0_CT_G02\", \"T0_CT_G03\", \"T0_CT_G04\", \"T0_CT_G07\", \"T0_CT_G08\", \"T0_CT_G09\", \"T0_CT_G11\", \"T0_CT_H01\", \"T0_CT_H02\", \"T0_CT_H04\", \"T0_CT_H05\", \"T0_CT_H08\", \"T0_CT_H09\", \"T0_CT_H12\", \"T24_CT_A01\", \"T24_CT_A03\", \"T24_CT_A04\", \"T24_CT_A05\", \"T24_CT_A07\", \"T24_CT_A08\", \"T24_CT_A09\", \"T24_CT_A10\", \"T24_CT_B01\", \"T24_CT_B02\", \"T24_CT_B03\", \"T24_CT_B05\", \"T24_CT_B06\", \"T24_CT_B07\", \"T24_CT_B08\", \"T24_CT_B09\", \"T24_CT_B11\", \"T24_CT_C01\", \"T24_CT_C02\", \"T24_CT_C03\", \"T24_CT_C05\", \"T24_CT_C07\", \"T24_CT_C08\", \"T24_CT_C09\", \"T24_CT_C10\", \"T24_CT_C11\", \"T24_CT_C12\", \"T24_CT_D01\", \"T24_CT_D02\", \"T24_CT_D03\", \"T24_CT_D04\", \"T24_CT_D05\", \"T24_CT_D06\", \"T24_CT_D07\", \"T24_CT_D08\", \"T24_CT_D09\", \"T24_CT_D10\", \"T24_CT_D11\", \"T24_CT_E01\", \"T24_CT_E02\", \"T24_CT_E04\", \"T24_CT_E05\", \"T24_CT_E07\", \"T24_CT_E09\", \"T24_CT_E11\", \"T24_CT_E12\", \"T24_CT_F01\", \"T24_CT_F02\", \"T24_CT_F03\", \"T24_CT_F04\", \"T24_CT_F05\", \"T24_CT_F07\", \"T24_CT_F08\", \"T24_CT_F09\", \"T24_CT_F10\", \"T24_CT_F11\", \"T24_CT_F12\", \"T24_CT_G01\", \"T24_CT_G02\", \"T24_CT_G03\", \"T24_CT_G04\", \"T24_CT_G05\", \"T24_CT_G06\", \"T24_CT_G08\", \"T24_CT_G10\", \"T24_CT_G11\", \"T24_CT_G12\", \"T24_CT_H01\", \"T24_CT_H02\", \"T24_CT_H03\", \"T24_CT_H05\", \"T24_CT_H07\", \"T24_CT_H09\", \"T24_CT_H12\", \"T48_CT_A01\", \"T48_CT_A02\", \"T48_CT_A03\", \"T48_CT_A04\", \"T48_CT_A05\", \"T48_CT_A06\", \"T48_CT_A07\", \"T48_CT_A08\", \"T48_CT_A09\", \"T48_CT_A10\", \"T48_CT_A11\", \"T48_CT_A12\", \"T48_CT_B01\", \"T48_CT_B02\", \"T48_CT_B03\", \"T48_CT_B04\", \"T48_CT_B06\", \"T48_CT_B08\", \"T48_CT_B10\", \"T48_CT_B11\", \"T48_CT_B12\", \"T48_CT_C01\", \"T48_CT_C02\", \"T48_CT_C03\", \"T48_CT_C04\", \"T48_CT_C05\", \"T48_CT_C06\", \"T48_CT_C07\", \"T48_CT_C09\", \"T48_CT_C10\", \"T48_CT_C11\", \"T48_CT_D01\", \"T48_CT_D02\", \"T48_CT_D03\", \"T48_CT_D04\", \"T48_CT_D06\", \"T48_CT_D07\", \"T48_CT_D08\", \"T48_CT_D09\", \"T48_CT_D10\", \"T48_CT_D11\", \"T48_CT_D12\", \"T48_CT_E01\", \"T48_CT_E02\", \"T48_CT_E03\", \"T48_CT_E04\", \"T48_CT_E05\", \"T48_CT_E06\", \"T48_CT_E07\", \"T48_CT_E08\", \"T48_CT_E10\", \"T48_CT_E11\", \"T48_CT_E12\", \"T48_CT_F01\", \"T48_CT_F02\", \"T48_CT_F03\", \"T48_CT_F05\", \"T48_CT_F07\", \"T48_CT_F09\", \"T48_CT_F10\", \"T48_CT_F11\", \"T48_CT_G01\", \"T48_CT_G02\", \"T48_CT_G03\", \"T48_CT_G07\", \"T48_CT_G08\", \"T48_CT_G09\", \"T48_CT_G10\", \"T48_CT_G11\", \"T48_CT_G12\", \"T48_CT_H01\", \"T48_CT_H02\", \"T48_CT_H04\", \"T48_CT_H05\", \"T48_CT_H06\", \"T48_CT_H07\", \"T48_CT_H08\", \"T48_CT_H11\", \"T48_CT_H12\", \"T72_CT_A01\", \"T72_CT_A05\", \"T72_CT_A08\", \"T72_CT_A09\", \"T72_CT_A11\", \"T72_CT_B01\", \"T72_CT_B02\", \"T72_CT_B03\", \"T72_CT_B04\", \"T72_CT_B05\", \"T72_CT_B06\", \"T72_CT_B08\", \"T72_CT_B09\", \"T72_CT_B11\", \"T72_CT_B12\", \"T72_CT_C04\", \"T72_CT_C06\", \"T72_CT_C07\", \"T72_CT_C09\", \"T72_CT_C11\", \"T72_CT_D01\", \"T72_CT_D03\", \"T72_CT_D04\", \"T72_CT_D05\", \"T72_CT_D07\", \"T72_CT_D10\", \"T72_CT_D11\", \"T72_CT_E04\", \"T72_CT_E05\", \"T72_CT_E07\", \"T72_CT_F01\", \"T72_CT_F05\", \"T72_CT_F07\", \"T72_CT_F10\", \"T72_CT_F11\", \"T72_CT_G03\", \"T72_CT_G04\", \"T72_CT_G06\", \"T72_CT_G08\", \"T72_CT_G10\", \"T72_CT_G11\", \"T72_CT_H01\", \"T72_CT_H03\", \"T72_CT_H05\", \"T72_CT_H08\", \"T72_CT_H09\", \"T72_CT_H10\", \"T72_CT_H11\", \"T72_CT_H12\"], \"x\": [-18.438645019561108, -34.596272559775386, -33.752031063793865, -16.092130836572082, -30.35312118277164, 10.032374581901434, -24.971318024760755, -7.441022298928871, -4.357139843465864, -31.972174483137803, -3.7128821061546944, -11.666992749046766, -33.76596451442802, -30.793988452253593, -34.48085456746525, -0.8085420622570545, -8.87815951644155, -0.07148148144061171, -14.793301934151552, -35.873621748952495, -10.200352467877778, -5.3420956818384315, -31.394855401379434, -18.392485159233825, -13.951187060233911, -32.77307753026311, -6.741476011439713, -30.78070564194096, -18.362736441154713, -30.716096891263856, -9.547813664510645, -6.555182234687481, -31.530600882479867, -25.501011553531, -17.100847127273116, -7.967961622412478, 3.8876480770138584, -24.09707929586749, -32.745329354883175, -38.149781830128234, -26.246227901078463, -10.877436279013384, -32.403042966411284, -20.719130412189216, -30.235676360733745, -32.34414170447138, -31.89269252514251, -31.31117404451156, -17.621660712089174, -29.552505589173624, -9.5547232447126, -4.623704695704249, -20.191078341838722, -27.81690596646788, -27.478078339260787, -3.7287749312661034, -19.753033982587365, -30.362960542380577, -32.50874895901204, -28.29365604119219, 2.283260633320028, -5.439387933581044, -0.6813535157263197, -10.169834106367526, -21.954049911284862, -6.238995087042923, -8.700899395992662, -7.197769420203644, -9.119948142287953, 0.6229829228702513, 4.591670023389842, -5.910273818051853, -24.181108786150414, 3.6795592332859823, 15.274568099923824, 11.497865513816988, 11.080276664523245, 5.7608411277882166, 12.532867365354953, 6.4547040589375735, 4.4228217600752355, 5.859955494849095, 16.16554770269689, 1.3030883988463788, 11.012096475483556, -23.4413648559789, 15.308588116231377, 4.476563098591612, 3.8037381047513135, -0.2619832592702982, 6.638919585029796, 1.0949997121683916, 0.5614699699721635, 9.65729166821377, 8.157071858175657, 6.229669457419765, 4.783600066556912, -9.860425919926884, 0.4533631523337109, 4.481431268502188, 10.012122288803596, 9.385380740982756, 5.462321523269109, 0.6985047156465168, 2.9355854215742214, 1.8642340444833199, 4.924095435969056, 14.721177523376591, 14.632305788427576, 6.068203621818302, 18.10609997254864, 9.00968302250907, 2.6468531908194537, 12.568307722893339, 5.016702758965607, 6.718472981669396, -2.5588514062994485, 10.480436947354573, 9.472181823697424, 12.11311821044091, 9.635157849255666, 12.275844927533935, -2.141776168699018, 3.8213727314335353, 11.365573574695324, -13.439353722554484, 0.6057740453539207, 19.195191059181813, 14.21612917878131, 3.9468730657039175, 4.548128587608632, 14.10130435979386, 2.806657614382581, 2.0795217031851463, 12.595485133380098, 1.060269598087923, -26.046924694644357, 10.110746522363305, 5.163249405630782, 6.945194098767364, 9.65485234058182, 12.906669541682485, 6.6704574184781755, 5.907712405279387, 6.799517671151031, 15.55602473757524, 6.675603967656829, 10.02373988947537, 14.18362234183099, -27.021878592867896, 9.295611249373948, 15.011777787778882, 5.455367097496056, 7.364282748253149, 12.770095030422254, 4.867521765508792, 6.900030781679019, 14.408557301611866, 20.36947898577715, 5.154947837624145, 15.943955429984408, 8.384562992102548, 6.67586390678906, 15.058102977381681, 6.448332354838023, 12.149174643361068, 7.410796364747434, 16.87648562272952, 10.36729280446256, 8.110707854554901, 13.275212065997627, -8.366142432721388, 17.559291321160057, 10.535614550234829, 9.008395708988362, 11.065757651147385, 10.665357675379772, 11.079303882587064, 4.839182094096039, 7.688676370210907, 12.564133921071198, 10.262038026886374, 13.281930821219435, -5.303424916242058, 18.868598454892584, 10.48948565339357, 14.111210015210608, 0.4461213642477809, 11.405421007617168, 9.621342924799409, 20.060809294935133, 15.259233364895469, 1.9833966828055603, 10.902812130849906, 14.808140591185271, -26.396041061433856, 5.159235240670401, 8.72840725553745, 10.354288600607983, 6.0676808121909565, 13.662595460740974, 5.433274994075139, 15.710734168991776, 20.55430589208359, 0.6214451582713609, 3.7810052676041677, 5.340962102171246, 5.147597788953381, 8.860485045706387, 11.544187318793293, -18.153728296227168, 6.844594254712716, 5.583263306840611, 7.175277810418122, 9.070929630980013, 9.053733974154241, 5.126738587381135, 7.0030001404538, 10.651840172225649, 6.779289499125447, 14.009232177214427, 4.633255716539595, 5.312683859728024, 2.2515733248830934, 11.971589062585783, 5.931688858992555, 6.235931028837673, 2.992167764444629, 15.114186544767001, 8.292307837018292, 20.217251158082732, 11.552945196599246, 18.869305535341155, -14.554242837650788, 16.475255027292725, 12.026937938611129, 7.307886929894831, 2.583600712801441, 11.13432313354413, -0.36882160203276726, 12.481126775529324, -23.984213023265863, 5.661480816721245, 11.68191314774085, 2.1596722871085765, 17.01075857823741, 12.185346334370324, 11.333120365170243, 17.296979863806516, 9.784889225338764, 3.7007024873437766, 9.407476568391168, 9.226048269765037, 2.3241764929837596, 14.301493004904259, 3.1026300067678734, -11.238308565974707, 13.820534038204364, 13.073051058944333, -9.932741916255559, 0.11322651218338747, 6.095639026164156, 13.313356881648414, 1.5082710140919537, 6.227495597251299, -25.75416178617479, -24.527355744344128, -25.682772481951165, 13.091986486314786, 15.533757951045505, 4.61197335189229], \"marker\": {\"color\": [3, 1, 1, 3, 1, 0, 1, 3, 3, 1, 3, 3, 1, 1, 1, 3, 3, 2, 3, 1, 3, 3, 1, 3, 3, 1, 3, 1, 3, 1, 3, 3, 1, 1, 1, 3, 2, 1, 1, 1, 1, 3, 1, 1, 1, 1, 1, 1, 3, 1, 3, 3, 1, 1, 1, 3, 1, 1, 1, 1, 2, 3, 2, 3, 1, 3, 3, 3, 3, 3, 2, 3, 1, 2, 0, 0, 0, 0, 0, 2, 2, 2, 0, 2, 0, 1, 0, 2, 0, 2, 2, 2, 2, 0, 2, 2, 2, 3, 2, 0, 0, 0, 0, 2, 2, 2, 2, 0, 0, 2, 0, 2, 0, 0, 2, 2, 3, 0, 2, 0, 2, 0, 3, 2, 2, 3, 2, 0, 0, 2, 2, 0, 0, 2, 0, 0, 1, 0, 2, 2, 0, 0, 0, 2, 2, 0, 2, 2, 0, 1, 2, 0, 2, 2, 0, 2, 2, 0, 0, 2, 0, 2, 2, 2, 2, 0, 2, 0, 2, 2, 2, 3, 0, 2, 2, 2, 0, 2, 2, 2, 0, 2, 2, 3, 0, 2, 2, 2, 2, 2, 0, 0, 2, 0, 0, 1, 2, 2, 2, 2, 0, 2, 2, 0, 0, 2, 2, 2, 2, 2, 1, 2, 2, 2, 2, 0, 2, 2, 2, 2, 2, 2, 2, 2, 0, 2, 2, 2, 0, 2, 0, 2, 0, 3, 0, 0, 2, 2, 0, 2, 0, 1, 2, 0, 2, 0, 0, 2, 0, 2, 2, 0, 2, 2, 0, 2, 3, 0, 0, 3, 3, 2, 0, 2, 2, 1, 1, 1, 2, 0, 2], \"colorscale\": \"RdYlBu\"}, \"mode\": \"markers\", \"yaxis\": \"y2\", \"xaxis\": \"x2\", \"y\": [-1.035741157918212, 8.252051163848902, 10.935589899071369, -3.6517554262981027, 4.705455687980194, 15.168352148765134, 4.778306909708652, -4.656437189291573, -6.0719882895777495, 1.9439196806334906, -4.125028434391182, -1.2747815186398785, 3.5517794237549416, 8.907249208593864, 4.278109493548003, 5.23846438051574, -6.469992828944174, -4.488009132197246, 0.32645737903980315, 7.677213311016003, -7.102640743307318, -10.225388296207315, 3.8354422712691685, -1.7566219700222367, 1.3077817808422827, 3.634129439962425, -7.3599205359076425, 1.7433551550494704, -0.030815403192313684, 3.7728241420762716, -10.175094155315875, -9.531925893722937, 8.301777631989513, 2.087565516843638, 4.899248083911605, -9.055892133537213, -5.606358263113168, 1.6270129561332234, 3.6504090788572787, 4.940552459177723, 1.7636706816630938, -7.831823012783984, 4.481546359311453, 2.3558967013397076, 7.3818599902883095, 7.062760726697462, 7.229494085725032, 9.499273178253153, -4.136928482924092, 2.7155356214167528, -1.4813237717399705, -10.847493688268512, -0.5620629310296853, 6.046412165375312, 3.4939371751015633, -4.494869616533695, 1.7952006987345046, 1.5627599897487745, 2.8623838277306257, 1.4358431912830647, 0.9711542620297078, -6.997771023106615, -4.979867927625008, -6.8787265612895565, 0.6275125149578011, -5.577470820092188, -1.5721949801852202, -8.753232341474634, -4.208930785737708, 3.6157295982308697, -10.014216157187187, -5.713057114222328, 16.988441726256262, -12.123615311283872, 13.681168203816243, 6.881883061388562, 2.9465675081415226, 7.007821415622023, 7.629774331248316, -9.34735220117587, -11.625408657935061, -9.315442763639364, 19.77177752896263, -7.786354792702618, 17.71796889288005, 15.277031697224933, 16.16638688969646, -10.708351352570899, 5.221288775080982, -9.68680500969482, -12.57391239895656, -9.857136435499697, -9.708980748179117, 12.079834709085283, -2.7882337518194995, -12.755974910759479, -14.080802377741607, -5.142208288172063, -8.652615840548586, 12.401312183293447, 5.454229296805824, 5.393223166671799, 6.642268867178204, -10.38793351927828, -9.080061377809576, -8.611497787456114, -11.527682125175021, 2.819227724318671, 9.20755782756535, -11.964256731218676, 17.895456602962284, -6.1425908479059625, 13.139977267051675, 5.072700527873723, -11.747320525008622, -11.470927263343667, -8.32553753477863, 2.1516830684306965, -1.6216710314904064, 3.4088465364923746, 1.0161948542536763, 11.942156302536455, -8.896738617027719, -3.191675258101371, -0.3508314609791956, -3.6040576329206657, -8.191635614231336, 18.29414851262347, 13.50460362511696, -6.657458325827648, -12.136524816960025, 8.973039875286926, 10.860326821815192, -10.70476699059002, 18.74085387022344, 8.16021514921101, 13.843631208101323, 6.36254665756525, -8.750649445966854, -3.318233771314909, 2.894152088252151, 9.69158839475018, 8.807744662021744, -9.263646297049817, -12.288224814824275, 21.449299752484922, -11.218647405524983, -5.901533448405649, 22.05377440259515, 3.0363134996796814, -11.506430835621137, 3.5497434124614315, -12.921095839789032, -10.830787719573827, 3.78654564136177, -12.43048317283027, -11.497497531461818, 20.084958456417453, 21.391428798863, -12.017156694702665, 12.56241552419953, -13.551259865898222, -9.234851196048822, -4.488015257631191, -11.160910499922895, 18.51642836572824, -13.10384858874906, 19.718817093795895, 0.02233538944300607, -7.82615132418468, -1.9037645361607718, -5.020991836892578, 10.407558516530962, -11.310324054778686, -9.48440425538395, -5.28908565875293, 11.43908937454285, -2.3384292073926605, -8.986158326389694, -11.536017538416527, 6.714271115752653, -12.781565062455494, -3.883112788321076, -5.874462421819349, 20.929734996053956, -4.167112763973027, -0.26908522105561145, -2.214157511684186, -2.839355875883685, -11.313771260371494, 23.962380655005454, 16.631219709314035, -10.563308333183878, 8.697132466838736, 9.859265142446878, 4.780999795647934, -12.437494297093668, -1.7829172444131642, 1.107473487550961, -8.735855589751445, 6.711135490931467, -10.518492867182278, -3.802886641220458, 16.005351896484314, 11.209139285114112, -10.93535955988589, -11.45897737599609, -12.073692099273078, -11.752695182089116, -5.1824820305975585, 29.40996279091002, -2.5760008357261994, -11.969162602604431, -9.256811595106049, -1.8899380469091056, 17.42112074497433, -10.861119624153462, -11.446998739983153, -5.345336644641211, -13.01168817093523, -1.6571812284046634, -12.938752984262404, -6.782317462829385, -2.055691525176536, 4.092934549846823, -8.21622319486485, -9.109578857771702, -9.681738396842729, 15.831779278280246, 0.5360000105456574, 21.246491531992756, -0.7727491364389553, 17.98827198570061, 0.801066207096336, 19.494952395347475, 5.430284676670941, -9.028204910203875, -9.97094826919143, 1.461559199309727, -6.815772445300456, 2.5974174206154084, 4.444454577172725, -7.374673834941954, 11.126326032083817, -7.828746245003967, 8.08440458548963, 9.009202487795928, -1.2043251316807397, 15.440747117715445, -0.6989137606989662, -9.547272494149825, 2.4369649899187653, -8.851240142457957, -9.549709698692293, 6.162229910937165, -9.055983041010537, -4.403632379463661, 21.12743992517094, 12.247108535798493, -0.9571760502647424, 2.5855866647635755, -10.098126263899035, 1.2198066332509343, -12.354209663305399, -9.726436083974933, 5.599168523639258, 5.586329163945844, 17.96614714178955, -0.5169369296152111, 1.6801584672823189, -11.412673090580686]}], {\"yaxis1\": {\"anchor\": \"x1\", \"title\": \"Component 2\", \"domain\": [0.0, 1.0]}, \"xaxis2\": {\"anchor\": \"y2\", \"title\": \"Component 1\", \"domain\": [0.55, 1.0]}, \"annotations\": [{\"yref\": \"paper\", \"showarrow\": false, \"text\": \"Timepoints\", \"xref\": \"paper\", \"x\": 0.225, \"y\": 1.0, \"yanchor\": \"bottom\", \"xanchor\": \"center\", \"font\": {\"size\": 16}}, {\"yref\": \"paper\", \"showarrow\": false, \"text\": \"Clusters\", \"xref\": \"paper\", \"x\": 0.775, \"y\": 1.0, \"yanchor\": \"bottom\", \"xanchor\": \"center\", \"font\": {\"size\": 16}}], \"xaxis1\": {\"anchor\": \"y1\", \"title\": \"Component 1\", \"domain\": [0.0, 0.45]}, \"title\": \"Comparing clusering via k-means to ground truth (4 clusters)\", \"yaxis2\": {\"anchor\": \"x2\", \"title\": \"Component 2\", \"domain\": [0.0, 1.0]}, \"showlegend\": false}, {\"linkText\": \"Export to plot.ly\", \"showLink\": true})});</script>"
      ],
      "text/plain": [
       "<IPython.core.display.HTML object>"
      ]
     },
     "metadata": {},
     "output_type": "display_data"
    }
   ],
   "source": [
    "plot_expression('k-means', projected, kmeans_preds, timepoints, samples)"
   ]
  },
  {
   "cell_type": "markdown",
   "metadata": {},
   "source": [
    "The right plot shows your PCA-projected cells, coloured by how they were clustered. The left plot shows the same data, but coloured according to the ground-truth classes. Hover over points in either plot to see the sample names associated with each cell. You can see how difficult it is to cluster these data correctly&mdash;at least when projected to two dimensions via PCA, there's a great deal of intermixing amongst data, making it impossible for any clustering algorithm to recover a fully correct solution.\n",
    "\n",
    "Why is there so much intermixing between classes on the ground-truth *Timepoints* plot? As the original Trapnell (2014) paper discusses, we don't necessarily see cells at the same timepoint going through coordinated changes in gene expression as they progress together through differentiation. Even though each cell's gene expression was determined via single-cell sequencing, each single cell was drawn from a well containing thousands of cells from the same timepoint. Expression of these cells differed, however, based on where the cell was in the well. If the one sequenced cell was taken from near the centre of the well, it was surrounded by cells on all sides throughout its development, meaning it was subject to a great deal of intercellular communication pushing it to complete differentation quickly. Conversely, if the one sequenced cell was taken from the edge of the well, it received far fewer differentiation signals because it was surrounded by relatively few cells, meaning its progress through differentation was slower. Thus, a \"centre\" cell may have finished differentiating in 36 hours, for example, while an \"edge\" cell may have still been early in the differentiation process at the final 72-hour timepoint."
   ]
  },
  {
   "cell_type": "markdown",
   "metadata": {},
   "source": [
    "## Exercise: Clustering our gene expression data via Gaussian mixture models\n",
    "\n",
    "Even though our gene expression were not drawn from a Gaussian distribution, as in the case of our simulated data, a mixture of Gaussians may nevertheless describe the data well. Using what we've shown you, run GMM on the PCA-projected expression data."
   ]
  },
  {
   "cell_type": "code",
   "execution_count": 18,
   "metadata": {
    "collapsed": false
   },
   "outputs": [],
   "source": [
    "# All right, here's your chance to make us proud."
   ]
  },
  {
   "cell_type": "markdown",
   "metadata": {},
   "source": [
    "## Exercise: Put everything you've learned into practice\n",
    "\n",
    "Let's take stock of where we are. You have a cool dataset, a newly stocked machine-learning toolbox full of dapper clustering algorithms, and enthusiastic instructors willing to attend to your every need. This is your chance to do great science!\n",
    "\n",
    "Here are a few suggestions:\n",
    "\n",
    "* Evaluate your k-means and GMM results on the gene expression data using homogeneity, completeness, V-measure, and silhouette scores. How do the algorithms compare?\n",
    "\n",
    "* Even though you know there were originally four timepoints in the data, try clustering with values for $K$ (that is, the number of clusters) other than four. How does this affect the above scoring metrics? How do the V-measure and silhouette score plots look for different values of $K$? Can you find an \"elbow\" on the sum-of-squared-error plot to determine the \"best\" number of clusters?\n",
    "\n",
    "* See how the curse of dimensionality affects your results. Rather than cluster on the PCA-projected 271x2 `projected` matrix, use the original 271x575 `exprmat` matrix. Do our scoring metrics get worse or better? Was the difference less or greater than you expected? Why might this be?"
   ]
  },
  {
   "cell_type": "code",
   "execution_count": 19,
   "metadata": {
    "collapsed": true
   },
   "outputs": [],
   "source": [
    "# THIS IS GOING TO BE LEGENDARY!!!"
   ]
  }
 ],
 "metadata": {
  "kernelspec": {
   "display_name": "Python 3",
   "language": "python",
   "name": "python3"
  },
  "language_info": {
   "codemirror_mode": {
    "name": "ipython",
    "version": 3
   },
   "file_extension": ".py",
   "mimetype": "text/x-python",
   "name": "python",
   "nbconvert_exporter": "python",
   "pygments_lexer": "ipython3",
   "version": "3.5.1"
  }
 },
 "nbformat": 4,
 "nbformat_minor": 0
}
